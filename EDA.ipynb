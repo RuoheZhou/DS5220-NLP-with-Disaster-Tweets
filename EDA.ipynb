{
 "cells": [
  {
   "cell_type": "code",
   "execution_count": 1,
   "metadata": {},
   "outputs": [
    {
     "name": "stderr",
     "output_type": "stream",
     "text": [
      "[nltk_data] Downloading package punkt to /Users/huangyue/nltk_data...\n",
      "[nltk_data]   Package punkt is already up-to-date!\n",
      "[nltk_data] Downloading package stopwords to\n",
      "[nltk_data]     /Users/huangyue/nltk_data...\n",
      "[nltk_data]   Package stopwords is already up-to-date!\n",
      "[nltk_data] Downloading package punkt to /Users/huangyue/nltk_data...\n",
      "[nltk_data]   Package punkt is already up-to-date!\n"
     ]
    },
    {
     "name": "stdout",
     "output_type": "stream",
     "text": [
      "Requirement already satisfied: gensim in /opt/anaconda3/lib/python3.8/site-packages (4.2.0)\n",
      "Requirement already satisfied: numpy>=1.17.0 in /opt/anaconda3/lib/python3.8/site-packages (from gensim) (1.23.4)\n",
      "Requirement already satisfied: smart-open>=1.8.1 in /opt/anaconda3/lib/python3.8/site-packages (from gensim) (6.2.0)\n",
      "Requirement already satisfied: scipy>=0.18.1 in /opt/anaconda3/lib/python3.8/site-packages (from gensim) (1.5.0)\n"
     ]
    }
   ],
   "source": [
    "from nltk.tokenize import word_tokenize \n",
    "import nltk\n",
    "import numpy as np\n",
    "nltk.download('punkt')\n",
    "import pandas as pd\n",
    "train = pd.read_csv('./train.csv')\n",
    "\n",
    "train.head()\n",
    "import string\n",
    "nltk.download('stopwords')\n",
    "from nltk.corpus import stopwords\n",
    "from nltk.stem import PorterStemmer\n",
    "ps = PorterStemmer()\n",
    "from nltk.tokenize import word_tokenize\n",
    "import nltk\n",
    "import numpy as np\n",
    "nltk.download('punkt')\n",
    "import pandas as pd\n",
    "import pickle\n",
    "from sklearn.metrics import confusion_matrix\n",
    "\n",
    "!pip install gensim\n",
    "import gensim\n",
    "from gensim.models import Word2Vec"
   ]
  },
  {
   "cell_type": "code",
   "execution_count": 3,
   "metadata": {},
   "outputs": [],
   "source": [
    "import matplotlib.pyplot as plt\n",
    "import seaborn as sns"
   ]
  },
  {
   "cell_type": "code",
   "execution_count": 4,
   "metadata": {},
   "outputs": [
    {
     "data": {
      "text/html": [
       "<div>\n",
       "<style scoped>\n",
       "    .dataframe tbody tr th:only-of-type {\n",
       "        vertical-align: middle;\n",
       "    }\n",
       "\n",
       "    .dataframe tbody tr th {\n",
       "        vertical-align: top;\n",
       "    }\n",
       "\n",
       "    .dataframe thead th {\n",
       "        text-align: right;\n",
       "    }\n",
       "</style>\n",
       "<table border=\"1\" class=\"dataframe\">\n",
       "  <thead>\n",
       "    <tr style=\"text-align: right;\">\n",
       "      <th></th>\n",
       "      <th>id</th>\n",
       "      <th>keyword</th>\n",
       "      <th>location</th>\n",
       "      <th>text</th>\n",
       "      <th>target</th>\n",
       "    </tr>\n",
       "  </thead>\n",
       "  <tbody>\n",
       "    <tr>\n",
       "      <th>0</th>\n",
       "      <td>1</td>\n",
       "      <td>NaN</td>\n",
       "      <td>NaN</td>\n",
       "      <td>Our Deeds are the Reason of this #earthquake M...</td>\n",
       "      <td>1</td>\n",
       "    </tr>\n",
       "    <tr>\n",
       "      <th>1</th>\n",
       "      <td>4</td>\n",
       "      <td>NaN</td>\n",
       "      <td>NaN</td>\n",
       "      <td>Forest fire near La Ronge Sask. Canada</td>\n",
       "      <td>1</td>\n",
       "    </tr>\n",
       "    <tr>\n",
       "      <th>2</th>\n",
       "      <td>5</td>\n",
       "      <td>NaN</td>\n",
       "      <td>NaN</td>\n",
       "      <td>All residents asked to 'shelter in place' are ...</td>\n",
       "      <td>1</td>\n",
       "    </tr>\n",
       "    <tr>\n",
       "      <th>3</th>\n",
       "      <td>6</td>\n",
       "      <td>NaN</td>\n",
       "      <td>NaN</td>\n",
       "      <td>13,000 people receive #wildfires evacuation or...</td>\n",
       "      <td>1</td>\n",
       "    </tr>\n",
       "    <tr>\n",
       "      <th>4</th>\n",
       "      <td>7</td>\n",
       "      <td>NaN</td>\n",
       "      <td>NaN</td>\n",
       "      <td>Just got sent this photo from Ruby #Alaska as ...</td>\n",
       "      <td>1</td>\n",
       "    </tr>\n",
       "  </tbody>\n",
       "</table>\n",
       "</div>"
      ],
      "text/plain": [
       "   id keyword location                                               text  \\\n",
       "0   1     NaN      NaN  Our Deeds are the Reason of this #earthquake M...   \n",
       "1   4     NaN      NaN             Forest fire near La Ronge Sask. Canada   \n",
       "2   5     NaN      NaN  All residents asked to 'shelter in place' are ...   \n",
       "3   6     NaN      NaN  13,000 people receive #wildfires evacuation or...   \n",
       "4   7     NaN      NaN  Just got sent this photo from Ruby #Alaska as ...   \n",
       "\n",
       "   target  \n",
       "0       1  \n",
       "1       1  \n",
       "2       1  \n",
       "3       1  \n",
       "4       1  "
      ]
     },
     "execution_count": 4,
     "metadata": {},
     "output_type": "execute_result"
    }
   ],
   "source": [
    "train.head()"
   ]
  },
  {
   "cell_type": "code",
   "execution_count": 5,
   "metadata": {},
   "outputs": [
    {
     "data": {
      "text/plain": [
       "id             0\n",
       "keyword       61\n",
       "location    2533\n",
       "text           0\n",
       "target         0\n",
       "dtype: int64"
      ]
     },
     "execution_count": 5,
     "metadata": {},
     "output_type": "execute_result"
    }
   ],
   "source": [
    "# Check for NaN values\n",
    "train.isnull().sum()"
   ]
  },
  {
   "cell_type": "code",
   "execution_count": 6,
   "metadata": {},
   "outputs": [
    {
     "data": {
      "text/plain": [
       "0"
      ]
     },
     "execution_count": 6,
     "metadata": {},
     "output_type": "execute_result"
    }
   ],
   "source": [
    "# Check for duplicate values\n",
    "train.duplicated().sum()"
   ]
  },
  {
   "cell_type": "code",
   "execution_count": 7,
   "metadata": {},
   "outputs": [
    {
     "data": {
      "text/html": [
       "<div>\n",
       "<style scoped>\n",
       "    .dataframe tbody tr th:only-of-type {\n",
       "        vertical-align: middle;\n",
       "    }\n",
       "\n",
       "    .dataframe tbody tr th {\n",
       "        vertical-align: top;\n",
       "    }\n",
       "\n",
       "    .dataframe thead th {\n",
       "        text-align: right;\n",
       "    }\n",
       "</style>\n",
       "<table border=\"1\" class=\"dataframe\">\n",
       "  <thead>\n",
       "    <tr style=\"text-align: right;\">\n",
       "      <th></th>\n",
       "      <th>id</th>\n",
       "      <th>keyword</th>\n",
       "      <th>location</th>\n",
       "      <th>text</th>\n",
       "      <th>target</th>\n",
       "    </tr>\n",
       "  </thead>\n",
       "  <tbody>\n",
       "  </tbody>\n",
       "</table>\n",
       "</div>"
      ],
      "text/plain": [
       "Empty DataFrame\n",
       "Columns: [id, keyword, location, text, target]\n",
       "Index: []"
      ]
     },
     "execution_count": 7,
     "metadata": {},
     "output_type": "execute_result"
    }
   ],
   "source": [
    "# Check to see if any reviews are blank strings and not just NaN\n",
    "train[train['text'].str.isspace()]"
   ]
  },
  {
   "cell_type": "markdown",
   "metadata": {},
   "source": [
    "### EDA\n",
    "#### Proportion of Labeled Tweets; Characters in Tweets; Distribution of Word Length; Punctuation Count Distribution; Top 30 Common Unigrams"
   ]
  },
  {
   "cell_type": "code",
   "execution_count": 8,
   "metadata": {},
   "outputs": [],
   "source": [
    "train_copy = train.copy()"
   ]
  },
  {
   "cell_type": "code",
   "execution_count": 9,
   "metadata": {},
   "outputs": [
    {
     "data": {
      "text/plain": [
       "Text(0.5, 1.0, 'Target Count in Training Set')"
      ]
     },
     "execution_count": 9,
     "metadata": {},
     "output_type": "execute_result"
    },
    {
     "data": {
      "image/png": "[encoded data removed]",
      "text/plain": [
       "<Figure size 360x360 with 1 Axes>"
      ]
     },
     "metadata": {
      "needs_background": "light"
     },
     "output_type": "display_data"
    }
   ],
   "source": [
    "plt.figure(figsize=(5, 5))\n",
    "sns.countplot(x = 'target', data=train_copy)\n",
    "plt.title('Target Count in Training Set')"
   ]
  },
  {
   "cell_type": "code",
   "execution_count": 10,
   "metadata": {},
   "outputs": [
    {
     "data": {
      "image/png": "[encoded data removed]",
      "text/plain": [
       "<Figure size 720x360 with 1 Axes>"
      ]
     },
     "metadata": {},
     "output_type": "display_data"
    }
   ],
   "source": [
    "plt.figure(figsize=(10, 5))\n",
    "colors = ['lightskyblue', 'lightcoral']\n",
    "plt.pie(train_copy['target'].value_counts(), explode=(0, 0.05), labels=[\"Non-disaster\", \"Disaster\"], \n",
    "        autopct=\"%0.2f%%\", textprops={'fontsize': 14}, shadow=True, startangle=90, colors=colors)\n",
    "plt.title('Proportion of Labeled Tweets', size=16, y=0.93)\n",
    "plt.show()"
   ]
  },
  {
   "cell_type": "code",
   "execution_count": 11,
   "metadata": {},
   "outputs": [
    {
     "data": {
      "image/png": "[encoded data removed]",
      "text/plain": [
       "<Figure size 720x360 with 2 Axes>"
      ]
     },
     "metadata": {
      "needs_background": "light"
     },
     "output_type": "display_data"
    }
   ],
   "source": [
    "fig,(ax1,ax2)=plt.subplots(1,2,figsize=(10,5))\n",
    "tweet_len=train_copy[train_copy['target']==1]['text'].map(lambda x: len(x))\n",
    "ax1.hist(tweet_len)\n",
    "ax1.set_title('disaster tweets')\n",
    "tweet_len=train_copy[train_copy['target']==0]['text'].map(lambda x: len(x))\n",
    "ax2.hist(tweet_len,color='green')\n",
    "ax2.set_title('Not disaster tweets')\n",
    "fig.suptitle('Characters in a tweet')\n",
    "plt.show()"
   ]
  },
  {
   "cell_type": "code",
   "execution_count": 12,
   "metadata": {},
   "outputs": [
    {
     "name": "stderr",
     "output_type": "stream",
     "text": [
      "<ipython-input-12-61296d917a41>:3: UserWarning: \n",
      "\n",
      "`distplot` is a deprecated function and will be removed in seaborn v0.14.0.\n",
      "\n",
      "Please adapt your code to use either `displot` (a figure-level function with\n",
      "similar flexibility) or `histplot` (an axes-level function for histograms).\n",
      "\n",
      "For a guide to updating your code to use the new functions, please see\n",
      "https://gist.github.com/mwaskom/de44147ed2974457ad6372750bbe5751\n",
      "\n",
      "  sns.distplot(word.map(lambda x: np.mean(x)),ax=ax1,color='red')\n",
      "<ipython-input-12-61296d917a41>:6: UserWarning: \n",
      "\n",
      "`distplot` is a deprecated function and will be removed in seaborn v0.14.0.\n",
      "\n",
      "Please adapt your code to use either `displot` (a figure-level function with\n",
      "similar flexibility) or `histplot` (an axes-level function for histograms).\n",
      "\n",
      "For a guide to updating your code to use the new functions, please see\n",
      "https://gist.github.com/mwaskom/de44147ed2974457ad6372750bbe5751\n",
      "\n",
      "  sns.distplot(word.map(lambda x: np.mean(x)),ax=ax2,color='green')\n"
     ]
    },
    {
     "data": {
      "text/plain": [
       "Text(0.5, 0.98, 'Distribution of word length in each tweet')"
      ]
     },
     "execution_count": 12,
     "metadata": {},
     "output_type": "execute_result"
    },
    {
     "data": {
      "image/png": "[encoded data removed]",
      "text/plain": [
       "<Figure size 720x360 with 2 Axes>"
      ]
     },
     "metadata": {
      "needs_background": "light"
     },
     "output_type": "display_data"
    }
   ],
   "source": [
    "fig,(ax1,ax2)=plt.subplots(1,2,figsize=(10,5))\n",
    "word=train_copy[train_copy['target']==1]['text'].str.split().apply(lambda x : [len(i) for i in x])\n",
    "sns.distplot(word.map(lambda x: np.mean(x)),ax=ax1,color='red')\n",
    "ax1.set_title('disaster')\n",
    "word=train_copy[train_copy['target']==0]['text'].str.split().apply(lambda x : [len(i) for i in x])\n",
    "sns.distplot(word.map(lambda x: np.mean(x)),ax=ax2,color='green')\n",
    "ax2.set_title('Not disaster')\n",
    "fig.suptitle('Distribution of word length in each tweet')"
   ]
  },
  {
   "cell_type": "code",
   "execution_count": 13,
   "metadata": {},
   "outputs": [
    {
     "name": "stderr",
     "output_type": "stream",
     "text": [
      "<ipython-input-13-2d65f04e35ab>:6: UserWarning: \n",
      "\n",
      "`distplot` is a deprecated function and will be removed in seaborn v0.14.0.\n",
      "\n",
      "Please adapt your code to use either `displot` (a figure-level function with\n",
      "similar flexibility) or `histplot` (an axes-level function for histograms).\n",
      "\n",
      "For a guide to updating your code to use the new functions, please see\n",
      "https://gist.github.com/mwaskom/de44147ed2974457ad6372750bbe5751\n",
      "\n",
      "  sns.distplot(train_copy.loc[train_copy['target'] == 0]['punctuation_count'], color='green', kde_kws={'label':'Not disaster'})\n",
      "<ipython-input-13-2d65f04e35ab>:7: UserWarning: \n",
      "\n",
      "`distplot` is a deprecated function and will be removed in seaborn v0.14.0.\n",
      "\n",
      "Please adapt your code to use either `displot` (a figure-level function with\n",
      "similar flexibility) or `histplot` (an axes-level function for histograms).\n",
      "\n",
      "For a guide to updating your code to use the new functions, please see\n",
      "https://gist.github.com/mwaskom/de44147ed2974457ad6372750bbe5751\n",
      "\n",
      "  sns.distplot(train_copy.loc[train_copy['target'] == 1]['punctuation_count'], color='red', kde_kws={'label':'Disaster'})\n"
     ]
    },
    {
     "data": {
      "text/plain": [
       "Text(0.5, 1.0, 'Punctuation Count Distribution in Training Set')"
      ]
     },
     "execution_count": 13,
     "metadata": {},
     "output_type": "execute_result"
    },
    {
     "data": {
      "image/png": "[encoded data removed]",
      "text/plain": [
       "<Figure size 1080x504 with 1 Axes>"
      ]
     },
     "metadata": {
      "needs_background": "light"
     },
     "output_type": "display_data"
    }
   ],
   "source": [
    "import string\n",
    "\n",
    "train_copy['punctuation_count'] = train_copy['text'].apply(lambda x: len([c for c in str(x) if c in string.punctuation]))\n",
    "\n",
    "plt.figure(figsize=(15,7))\n",
    "sns.distplot(train_copy.loc[train_copy['target'] == 0]['punctuation_count'], color='green', kde_kws={'label':'Not disaster'})\n",
    "sns.distplot(train_copy.loc[train_copy['target'] == 1]['punctuation_count'], color='red', kde_kws={'label':'Disaster'})\n",
    "plt.title('Punctuation Count Distribution in Training Set')"
   ]
  },
  {
   "cell_type": "code",
   "execution_count": 14,
   "metadata": {},
   "outputs": [
    {
     "name": "stderr",
     "output_type": "stream",
     "text": [
      "<ipython-input-14-b9c179a2cb40>:4: SettingWithCopyWarning: \n",
      "A value is trying to be set on a copy of a slice from a DataFrame\n",
      "\n",
      "See the caveats in the documentation: https://pandas.pydata.org/pandas-docs/stable/user_guide/indexing.html#returning-a-view-versus-a-copy\n",
      "  train_copy['text'][i] = [train_copy['text'][i][j].lower() for j in range(len(train_copy.iloc[i,3]))]\n",
      "<ipython-input-14-b9c179a2cb40>:7: SettingWithCopyWarning: \n",
      "A value is trying to be set on a copy of a slice from a DataFrame\n",
      "\n",
      "See the caveats in the documentation: https://pandas.pydata.org/pandas-docs/stable/user_guide/indexing.html#returning-a-view-versus-a-copy\n",
      "  train_copy['text'][i] = [j for j in train_copy['text'][i] if j not in list(string.punctuation)]\n",
      "<ipython-input-14-b9c179a2cb40>:10: SettingWithCopyWarning: \n",
      "A value is trying to be set on a copy of a slice from a DataFrame\n",
      "\n",
      "See the caveats in the documentation: https://pandas.pydata.org/pandas-docs/stable/user_guide/indexing.html#returning-a-view-versus-a-copy\n",
      "  train_copy['text'][i] = [j for j in train_copy['text'][i] if j not in stopwords.words('english')]\n"
     ]
    }
   ],
   "source": [
    "train_copy['text'] = [word_tokenize(train_copy.iloc[i, 3]) for i in range(len(train_copy))]\n",
    "\n",
    "for i in range(len(train_copy)):\n",
    "    train_copy['text'][i] = [train_copy['text'][i][j].lower() for j in range(len(train_copy.iloc[i,3]))]\n",
    "    \n",
    "for i in range(len(train_copy)):\n",
    "    train_copy['text'][i] = [j for j in train_copy['text'][i] if j not in list(string.punctuation)]\n",
    "    \n",
    "for i in range(len(train_copy)):\n",
    "    train_copy['text'][i] = [j for j in train_copy['text'][i] if j not in stopwords.words('english')]\n",
    "    \n",
    "lis = [train_copy[train_copy['target'] == 0]['text'], train_copy[train_copy['target'] == 1]['text']]"
   ]
  },
  {
   "cell_type": "code",
   "execution_count": 15,
   "metadata": {},
   "outputs": [
    {
     "data": {
      "image/png": "[encoded data removed]",
      "text/plain": [
       "<Figure size 1296x576 with 2 Axes>"
      ]
     },
     "metadata": {
      "needs_background": "light"
     },
     "output_type": "display_data"
    }
   ],
   "source": [
    "from collections import Counter\n",
    "\n",
    "fig, axes = plt.subplots(1, 2, figsize=(18, 8))\n",
    "axes = axes.flatten()\n",
    "\n",
    "for i, j in zip(lis, axes):\n",
    "\n",
    "    new = i\n",
    "    corpus = [word for i in new for word in i]\n",
    "\n",
    "    counter = Counter(corpus)\n",
    "    most = counter.most_common()\n",
    "    x, y = [], []\n",
    "    for word, count in most[:30]:\n",
    "        if (word not in stopwords.words('english')):\n",
    "            x.append(word)\n",
    "            y.append(count)\n",
    "\n",
    "    sns.barplot(x=y, y=x, palette='plasma', ax=j)\n",
    "axes[0].set_title('Non Disaster Tweets')\n",
    "\n",
    "axes[1].set_title('Disaster Tweets')\n",
    "axes[0].set_xlabel('Count')\n",
    "axes[0].set_ylabel('Word')\n",
    "axes[1].set_xlabel('Count')\n",
    "axes[1].set_ylabel('Word')\n",
    "\n",
    "fig.suptitle('Top 30 Common Unigrams', fontsize=24, va='baseline')\n",
    "plt.tight_layout()"
   ]
  },
  {
   "cell_type": "markdown",
   "metadata": {},
   "source": [
    "### NLP Clearning\n",
    "#### Tokenizing; LowerCase; Remove Punctuations & Stopwords; Steming"
   ]
  },
  {
   "cell_type": "code",
   "execution_count": 4,
   "metadata": {},
   "outputs": [
    {
     "name": "stderr",
     "output_type": "stream",
     "text": [
      "/var/folders/nr/r7m_ksxd1zj2ttsw9nprxcv00000gn/T/ipykernel_68451/4225160402.py:9: SettingWithCopyWarning: \n",
      "A value is trying to be set on a copy of a slice from a DataFrame\n",
      "\n",
      "See the caveats in the documentation: https://pandas.pydata.org/pandas-docs/stable/user_guide/indexing.html#returning-a-view-versus-a-copy\n",
      "  train['text'][i] = nlp(train['text'][i])\n"
     ]
    }
   ],
   "source": [
    "def nlp(text_str):\n",
    "    k = word_tokenize(text_str)\n",
    "    for i in range(len(k)):\n",
    "        k[i] = k[i].lower()\n",
    "    k = [ps.stem(i) for i in k if i not in list(string.punctuation) and i not in stopwords.words('english')]\n",
    "    k = \" \".join(k)\n",
    "    return k\n",
    "for i in range(len(train['text'])):\n",
    "    train['text'][i] = nlp(train['text'][i])\n"
   ]
  },
  {
   "cell_type": "code",
   "execution_count": 91,
   "metadata": {},
   "outputs": [
    {
     "data": {
      "text/plain": [
       "0       Our Deeds are the Reason of this #earthquake M...\n",
       "1                  Forest fire near La Ronge Sask. Canada\n",
       "2       All residents asked to 'shelter in place' are ...\n",
       "3       13,000 people receive #wildfires evacuation or...\n",
       "4       Just got sent this photo from Ruby #Alaska as ...\n",
       "                              ...                        \n",
       "7608    Two giant cranes holding a bridge collapse int...\n",
       "7609    @aria_ahrary @TheTawniest The out of control w...\n",
       "7610    M1.94 [01:04 UTC]?5km S of Volcano Hawaii. htt...\n",
       "7611    Police investigating after an e-bike collided ...\n",
       "7612    The Latest: More Homes Razed by Northern Calif...\n",
       "Name: text, Length: 7613, dtype: object"
      ]
     },
     "execution_count": 91,
     "metadata": {},
     "output_type": "execute_result"
    }
   ],
   "source": [
    "train['text']"
   ]
  },
  {
   "cell_type": "markdown",
   "metadata": {},
   "source": [
    "### NLP Cleaning without removing punctuations"
   ]
  },
  {
   "cell_type": "code",
   "execution_count": 90,
   "metadata": {},
   "outputs": [
    {
     "data": {
      "text/plain": [
       "['deed reason # earthquak may allah forgiv us',\n",
       " 'forest fire near la rong sask . canada',\n",
       " \"resid ask 'shelter place ' notifi offic . evacu shelter place order expect\",\n",
       " '13,000 peopl receiv # wildfir evacu order california',\n",
       " 'got sent photo rubi # alaska smoke # wildfir pour school',\n",
       " '# rockyfir updat = > california hwi . 20 close direct due lake counti fire - # cafir # wildfir',\n",
       " '# flood # disast heavi rain caus flash flood street manit , colorado spring area',\n",
       " \"'m top hill see fire wood ...\",\n",
       " \"'s emerg evacu happen build across street\",\n",
       " \"'m afraid tornado come area ...\",\n",
       " 'three peopl die heat wave far',\n",
       " 'haha south tampa get flood hah- wait second live south tampa gon na gon na fvck # flood',\n",
       " \"# rain # flood # florida # tampabay # tampa 18 19 day . 've lost count\",\n",
       " '# flood bago myanmar # arriv bago',\n",
       " 'damag school bu 80 multi car crash # break',\n",
       " \"'s man ?\",\n",
       " 'love fruit',\n",
       " 'summer love',\n",
       " 'car fast',\n",
       " 'goooooooaaaaaal ! ! ! ! ! !',\n",
       " 'ridicul ....',\n",
       " 'london cool ; )',\n",
       " 'love ski',\n",
       " 'wonder day !',\n",
       " 'looooool',\n",
       " \"way ... ca n't eat shit\",\n",
       " 'nyc last week !',\n",
       " 'love girlfriend',\n",
       " 'cooool : )',\n",
       " 'like pasta ?',\n",
       " 'end !',\n",
       " '@ bbcmtd wholesal market ablaz http : //t.co/lhyxeohy6c',\n",
       " 'alway tri bring heavi . # metal # rt http : //t.co/yao1e0xngw',\n",
       " '# africanbaz : break news : nigeria flag set ablaz aba . http : //t.co/2nndbgwyei',\n",
       " 'cri ! set ablaz',\n",
       " 'plu side look sky last night ablaz http : //t.co/qqsmshaj3n',\n",
       " \"@ phdsquar # mufc 've built much hype around new acquisit doubt set epl ablaz season .\",\n",
       " 'inec offic abia set ablaz - http : //t.co/3imaomknna',\n",
       " 'barbado # bridgetown jamaica \\x89ûò two car set ablaz : santa cruz \\x89ûó head st elizabeth polic superintend ... http : //t.co/wdueaj8q4j',\n",
       " 'ablaz lord :',\n",
       " 'check : http : //t.co/roi2nsmejj http : //t.co/3tj8zjin21 http : //t.co/yduixefip http : //t.co/lxtjc87kl # nsfw',\n",
       " \"outsid 're ablaz aliv 're dead insid\",\n",
       " 'awesom time visit cfc head offic ancop site ablaz . thank tita vida take care us ? ?',\n",
       " 'soooo pump ablaz ? ? ? ? @ southridgelif',\n",
       " 'want set chicago ablaz preach ... hotel ! http : //t.co/o9qknbfofx',\n",
       " 'gain 3 follow last week . ? know stat grow http : //t.co/tiyulif5c6',\n",
       " 'west burn : thousand wildfir ablaz california alon http : //t.co/vl5tbr3wbr',\n",
       " 'build perfect tracklist life leav street ablaz',\n",
       " 'check : http : //t.co/roi2nsmejj http : //t.co/3tj8zjin21 http : //t.co/yduixefip http : //t.co/lxtjc87kl # nsfw',\n",
       " \"first night retain . 's quit weird . better get use ; wear everi singl night next year least .\",\n",
       " 'deputi : man shot brighton home set ablaz http : //t.co/gwnrhmso8k',\n",
       " 'man wife get six year jail set ablaz niec http : //t.co/ev1ahoucza',\n",
       " 'santa cruz \\x89ûó head st elizabeth polic superintend lanford salmon r ... - http : //t.co/vplr5hka2u http : //t.co/sxhw2tnnlf',\n",
       " 'polic : arsonist deliber set black church north carolinaåêablaz http : //t.co/pcxarbh9an',\n",
       " \"noch el-bestia ' @ alexis_sanchez : happi see teammat train hard ? ? goodnight gunners. ? ? ? ? ? ? http : //t.co/uc4j4jhvgr '\",\n",
       " '# kurd trampl turkmen flag later set ablaz other vandal offic turkmen front # diyala http : //t.co/4izfdyc3cg',\n",
       " 'truck ablaz : r21 . voortrekk ave. outsid tambo intl . cargo section . http : //t.co/8kscqkfkkf',\n",
       " 'set heart ablaz everi citi gift everi skylin like kiss upon lip @ \\x89û_ http : //t.co/cyompz1a0z',\n",
       " \"sky ablaz tonight lo angel . 'm expect ig fb fill sunset shot know peep ! !\",\n",
       " 'west burn : thousand wildfir ablaz # california alon http : //t.co/icsjgz9te1 # climat # energi http : //t.co/9fxmn0l0bd',\n",
       " 'revel wmv video mean mac farewel ablaz wmv en rout dvd : gtxrwm',\n",
       " \"progress greet ! month student would set pen ablaz torch public ' ... http : //t.co/9fxpixqujt\",\n",
       " 'rene ablaz & amp ; jacinta - secret 2k13 ( fallen sky edit ) - mar 30 2013 http : //t.co/7mlmsuzv1z',\n",
       " \"@ navista7 steve fire someth els ! california tinderbox - clown set 'hood ablaz @ news24680\",\n",
       " '# nowplay : rene ablaz & amp ; ian buff - magnitud http : //t.co/av2jsjfftc # edm',\n",
       " '@ nxwestmidland huge fire wholesal market ablaz http : //t.co/rwzbfvnxer',\n",
       " \"@ ablaz time talk go ? n't know make due work .\",\n",
       " \"' ca n't kid cuz got bicycl accid & amp ; split testicl . 's imposs kid ' michael father\",\n",
       " 'accid i-24 w # nashvilletraff . traffic move 8m slower usual . http : //t.co/0ghk693egj',\n",
       " 'accid center lane block # santaclara us-101 nb great america pkwi # bayarea # traffic http : //t.co/pmlohzurwr',\n",
       " 'http : //t.co/gkye6gjtk5 # personalinjuri accid summer ? read advic & amp ; see # solicitor help # otleyhour',\n",
       " '# stloui # caraccidentlawy speed among top caus teen accid http : //t.co/k4zomof319 http : //t.co/s2kxvm0cba car accid tee\\x89û_',\n",
       " 'report motor vehicl accid curri herman rd near stephenson involv overturn vehicl . pleas use ... http : //t.co/ybjezkurw1',\n",
       " 'bigrigradio live accid awar',\n",
       " 'i-77 mile marker 31 south mooresvil iredel vehicl accid ramp close 8/6 1:18 pm',\n",
       " 'rt @ sleepjunki : sleep pill doubl risk car accid http : //t.co/7s9nm1fict',\n",
       " \"'bi accid ' knew gon happen http : //t.co/ysxun5vceh\",\n",
       " 'traffic accid n cabrillo hwy/magellan av mir ( 08/06/15 11:03:58 )',\n",
       " 'i-77 mile marker 31 40 south mooresvil iredel vehicl accid congest 8/6 1:18 pm',\n",
       " 'pastor scene accid ...... owner rang rover ?',\n",
       " \"mom : 'we n't get home fast wish ' : 'whi ? ' mom : 'there accid truck spilt mayonnais ? ? ? ? ? ?\",\n",
       " \"horribl car accid past sunday . 'm final abl get around . thank god ? ?\",\n",
       " 'wait see piss donni tell anoth accid ? ?',\n",
       " \"# truckcrash overturn # fortworth interst http : //t.co/rs22lj4qfp click 've crash & gt ; http : //t.co/ld0uniyw4k\",\n",
       " 'accid # ashvil us 23 sb sr 752 # traffic http : //t.co/hylmo0wgfi',\n",
       " 'carolina accid : motorcyclist die i-540 crash car cross median : motorcycl rider travel ... http : //t.co/p18lzrlmy6',\n",
       " 'fyi cad : fyi : ; accid properti damag ; nh ; 999 piner rd/horndal dr',\n",
       " 'rt naayf : first accid year . turn onto chandane magu near mma . taxi ram halfway turn . everyon conf\\x89û_',\n",
       " 'accid left lane block # manchest rt 293 nb eddi rd stop go traffic back nh-3a delay 4 min # traffic',\n",
       " '; accid properti damag ; piner rd/horndal dr',\n",
       " '? ? ? ? accid http : //t.co/oia5fxi4gm',\n",
       " 'fyi cad : fyi : ; accid properti damag ; wpd ; 1600 17th st',\n",
       " '8/6/2015 @ 2:09 pm : traffic accid injuri 2781 willi foreman rd http : //t.co/vckit6edev',\n",
       " 'aashiqui actress anu aggarw near-fat accid http : //t.co/6otfp31lqw',\n",
       " 'suffield alberta accid http : //t.co/bptmlf4p10',\n",
       " '9 mile backup i-77 south ... accid block right 2 lane exit 31 langtre rd ... consid nc 115 nc 150 nc 16 altern',\n",
       " 'accid chang life ? help determin option financi support life care plan on-go treatment .',\n",
       " \"# break : deadli motorcycl car accid happen # hagerstown today . 'll detail 5 @ your4stat . # whag\",\n",
       " '@ flowri marinad accid ?',\n",
       " \"car even week got fuck car accid .. mf ca n't fuck drive .\",\n",
       " '. @ norwaymfa # bahrain polic previous die road accid kill explos http : //t.co/gfjfgtodad',\n",
       " 'still heard church leader kenya come forward comment accid issu disciplinari measur # arrestpastornganga',\n",
       " '@ aftershock_delo scuf ps live game ... cya',\n",
       " \"'the man drive effort get pain man win . ' roger bannist\",\n",
       " '320 [ ir ] icemoon [ aftershock ] | http : //t.co/ynxnvvkcda | @ djicemoon | # dubstep # trapmus # dnb # edm # danc # ices\\x89û_ http : //t.co/weqpesenku',\n",
       " \"'there victori bargain basement price . ' dwight david eisenhow\",\n",
       " '320 [ ir ] icemoon [ aftershock ] | http : //t.co/vam5podgyw | @ djicemoon | # dubstep # trapmus # dnb # edm # danc # ices\\x89û_ http : //t.co/zevakjapcz',\n",
       " \"'nobodi rememb came second . ' charl schulz\",\n",
       " '@ aftershock_delo im speak someon use scuf xb1 peopl end get ps also .',\n",
       " \"'the harder conflict gloriou triumph . ' thoma pain\",\n",
       " \"# growingupspoil go clay pigeon shoot cri 'aftershock '\",\n",
       " 'guess one actual want free aftershock tc .....',\n",
       " \"aftershock terrifi best roller coaster 've ever . * disclaim * 've .\",\n",
       " 'aftershock http : //t.co/xmwodfmtui',\n",
       " '320 [ ir ] icemoon [ aftershock ] | http : //t.co/m4jdzmgjow | @ djicemoon | # dubstep # trapmus # dnb # edm # danc # ices\\x89û_ http : //t.co/n0uhasfkbv',\n",
       " '320 [ ir ] icemoon [ aftershock ] | http : //t.co/vam5podgyw | @ djicemoon | # dubstep # trapmus # dnb # edm # danc # ices\\x89û_ http : //t.co/zevakjapcz',\n",
       " '320 [ ir ] icemoon [ aftershock ] | http : //t.co/e14epzhoth | @ djicemoon | # dubstep # trapmus # dnb # edm # danc # ices\\x89û_ http : //t.co/22a9d5do6q',\n",
       " \"@ kjforday 'm see issu aftershock ? ?\",\n",
       " '320 [ ir ] icemoon [ aftershock ] | http : //t.co/thyzomvwu0 | @ djicemoon | # dubstep # trapmus # dnb # edm # danc # ices\\x89û_ http : //t.co/83joo0xk29',\n",
       " '320 [ ir ] icemoon [ aftershock ] | http : //t.co/thyzomvwu0 | @ djicemoon | # dubstep # trapmus # dnb # edm # danc # ices\\x89û_ http : //t.co/83joo0xk29',\n",
       " '# wisdomw bonu - 5 minut daili habit could realli improv life . mani alreadi ? # lifehack http : //t.co/tbm9fqb8cw',\n",
       " 'aftershock : protect profit next global financi meltdown david wiedem http http : //t.co/wztz4hgmvq',\n",
       " 'moment get scari roller coaster guy behind scream bloodi murder ? ? ? ? ? ? # silverwood # aftershock',\n",
       " 'aftershock \\x89ã¢ ( 2010 ) full\\x89ã¢ stream - youtub http : //t.co/vve3usesgf',\n",
       " '& gt ; & gt ; $ 15 aftershock : protect profit next global financi ... # # book http : //t.co/f6ntuc734z @ esquireattir',\n",
       " \"sometim face difficulti 're someth wrong 're someth right . - joel osteen\",\n",
       " \"'the thing stand dream tri belief actual possibl . ' - joel brown\",\n",
       " 'prais god ministri tell like ! ! ! # # wdyouth # biblestudi http : //t.co/ujk0e5gbcc',\n",
       " \"'rememb go die best way know avoid trap think someth lose . ' \\x89ûò steve job\",\n",
       " 'tri orang aftershock today . life never',\n",
       " '@ onfireand love bb',\n",
       " 'aftershock http : //t.co/jv8ppkhjy7',\n",
       " 'aftershock back school kick great . want thank everyon make possibl . great night .',\n",
       " 'peopl say done interrupt . \\x89ûò georg bernard shaw',\n",
       " \"'the first man get oyster second man get shell . ' andrew carnegi\",\n",
       " 'anyon need p/u tonight ? play hybrid slayer ps4 eu . hmu @ cod8sandscrim @ empirikgam @ codawscrim @ 4tp_kotc @ 4tpfa @ aftershock_org',\n",
       " 'expert franc begin examin airplan debri found reunion island : french air accid expert ... http : //t.co/yvvpznzmxg # news',\n",
       " 'strict liabil context airplan accid : pilot error common compon aviat cr ... http : //t.co/6cz3bohrd4',\n",
       " '@ crobscarla lifetim odd die airplan accid 1 8015 .',\n",
       " 'expert franc begin examin airplan debri found reunion island : french air accid expert wedn ... http : //t.co/bkpfpogysi',\n",
       " \"@ alexalltimelow awwww 're airplan accid 're gon na die cuti ? ? ? ? good job !\",\n",
       " 'famili member osama bin laden die airplan accid iron ? ? ? ? ? ? mhmmm gov shit suspect',\n",
       " 'man goe airplan engin accid : http : //t.co/tyjxrfd3st via @ youtub',\n",
       " 'horribl accid man die wing airplan ( 29-07-2015 ) http : //t.co/i7kztevb2v',\n",
       " 'cessna airplan accid ocampo coahuila mexico juli 29 2015 kill four men includ state coahuila govern offici .',\n",
       " '# horribl # accid man die wing airplan ( 29-07-2015 ) # watchthevideo http : //t.co/p64xrvgjik',\n",
       " 'expert franc begin examin airplan debri found reunion island http : //t.co/lsmx2vwr3j french air accid expert wednesday\\x89û_',\n",
       " 'expert franc begin examin airplan debri found reunion island : french air accid expert wednesday began examin ...',\n",
       " \"# kca # votejkt48id mbataweel : # rip # binladen famili member kill airplan 's accid\",\n",
       " 'almost sent cowork nude accid thank god airplan mode',\n",
       " \"@ mickinyman @ theatlant might kill airplan accid night car wreck ! polit 's best .\",\n",
       " 'expert franc begin examin airplan debri found reunion island : french air accid expert ... http : //t.co/tagzbcxfj0 # mlb',\n",
       " 'unbeliev insan . # man # airport # airplan # aircraft # aeroplan # runway # accid # freaky\\x89û_ http : //t.co/cezhq7czl',\n",
       " 'horribl accid | man die wing airplaneåê ( 29-07-2015 ) http : //t.co/wq3wjsgphl',\n",
       " 'horribl accid man die wing airplan ( 29-07-2015 ) http : //t.co/tfcdronra6',\n",
       " 'usama bin ladin famili dead airplan crash . natur accid .',\n",
       " 'pilot die plane crash car festiv http : //t.co/kq9ae6ap2b via @ youtub # crash # aircraft # airplan # pilot # death # accid # carfest',\n",
       " 'strict liabil context airplan accid - http : //t.co/gibyqhhkpk',\n",
       " 'dtn brazil : expert franc begin examin airplan debri found reunion island : french air accid exp ... http : //t.co/m9ig3wq8lq',\n",
       " 'expert franc begin examin airplan debri found reunion island : french air accid expert wedn ... http : //t.co/v4smaeslk5',\n",
       " 'horribl accid man die wing \\x89ûïairplane\\x89û\\x9d 29-07-2015 . wtf can\\x89ûªt believ eye \\x89ûò ... http : //t.co/6ffylajwp',\n",
       " \"+ nicol fletcher one victim crash airplan time ago . accid left littl bit trauma . although 's +\",\n",
       " 'omg horribl accid man die wing airplan . http : //t.co/xdxdprcpn',\n",
       " \"# omg ! n't believ . # rip bro # airplan # accid # jetengin # turbojet # bo # g90 http : //t.co/kxxnszp6nk\",\n",
       " 'expert franc begin examin airplan debri found reunion island : french air accid expert wednesday began examin ...',\n",
       " 'airplan accid .',\n",
       " 'phone look like car ship airplan accid . terribl',\n",
       " \"statist 'm risk get kill cop die airplan accid .\",\n",
       " 'airplan crash hous colombia 12 peopl die accid http : //t.co/zhjlflbhzl',\n",
       " 'shoot airplan accid http : //t.co/iecc1jdoub',\n",
       " 'could drone caus airplan accid ? pilot worri use drone esp . close vicin airport http : //t.co/kz35rgngjf #',\n",
       " 'earli wake call sister beg come & amp ; ride w/her ambul hospit # rodkiai',\n",
       " 'http : //t.co/ay6zzcupnz twelv fear kill pakistani air ambul helicopt crash http : //t.co/sc9dns41mc',\n",
       " 'two air ambul scene seriou crash two car lorri ... - http : //t.co/9pfeaqeski http : //t.co/fntg70rnkx | # emsne\\x89û_',\n",
       " 'twelv fear kill pakistani air ambul helicopt crash - reuter http : //t.co/mdnugvubwn # yugvani',\n",
       " 'lead emerg servic boss welcom new ambul chariti http : //t.co/mj2jq2psv6',\n",
       " \"anyon travel aberystwyth-shrewsburi right 's incid . servic halt outsid shrew . ambul scene .\",\n",
       " 'twelv fear kill pakistani air ambul helicopt crash http : //t.co/xum8ylcb4q',\n",
       " 'ambul sprinter automat frontlin vehicl choic 14 lez compliant | ebay http : //t.co/4evttqpeia',\n",
       " 'new nanotech devic abl target destroy blood clot http : //t.co/hfy5v3slbb',\n",
       " '@ 20skyhawkmm20 @ traplord_29 @ fredosantana300 @ lilreese300 hella crazi 3 fight ambul coupl mosh pit ? ?',\n",
       " 'get run ambul lucki ? # justsay # randomthought',\n",
       " '# news twelv fear kill pakistani air ambul helicopt crash http : //t.co/bfes5twbzt # til_now # dna',\n",
       " 'http : //t.co/7xglah10zl twelv fear kill pakistani air ambul helicopt crash http : //t.co/thmblaatzp',\n",
       " '@ tanslash wait ambul',\n",
       " '@ fouseytub ok ? need ambul . hahahah good ! http : //t.co/zsberqnn9n',\n",
       " 'ambul sprinter automat frontlin vehicl choic 14 lez compliant | ebay http : //t.co/q8ivrzojzv',\n",
       " 'pakistan air ambul helicopt crash kill nine http : //t.co/8e7ry8ebmf',\n",
       " '@ thenissonian @ rejectdcartoon nissan ok need medic assist call ambul need',\n",
       " 'ems1 : ny emt petit $ 17 per hour \\x89û÷minimum wage\\x89ûª http : //t.co/4oa6swlxmr # em # paramed # ambul',\n",
       " 'http : //t.co/fcqmkffflw twelv fear kill pakistani air ambul helicopt crash http : //t.co/vayaymbngu',\n",
       " 'twelv fear kill pakistani air ambul helicopt crash http : //t.co/3brme6sn4t',\n",
       " 'ambul sprinter automat frontlin vehicl choic 14 lez compliant | ebay http : //t.co/ujrx9kgawp',\n",
       " 'ambul sprinter automat frontlin vehicl choic 14 lez compliant | ebay http : //t.co/kp2lf4aut',\n",
       " \"@ kiwi_karyn check 's park lot ! ! said last year ambul st john . http : //t.co/hpvodud7ip\",\n",
       " \"n't know way ambul come & lt ; & lt ;\",\n",
       " '# reuter twelv fear kill pakistani air ambul helicopt crash http : //t.co/shzpyiqok5',\n",
       " 'http : //t.co/pwwpum6rbj twelv fear kill pakistani air ambul helicopt crash http : //t.co/yspon4d6qo',\n",
       " 'ambul right outsid work',\n",
       " \"\\x89ûï @ leoblakecart : dog think 's ambul ? ? ? ? ? ? http : //t.co/mg1lpgr0rm\\x89û\\x9d @ natasha_rideout\",\n",
       " 'happen - hatzolah em ambul respond dual siren and\\x89û_ http : //t.co/sek6mq6njf',\n",
       " 'http : //t.co/fuerk0gwui twelv fear kill pakistani air ambul helicopt crash http : //t.co/mv7ggglmvc',\n",
       " 'http : //t.co/x5yeuylt1x twelv fear kill pakistani air ambul helicopt crash http : //t.co/2ugrmd1z1n',\n",
       " 'twelv fear kill pakistani air ambul helicopt crash http : //t.co/th9ywbbeet # worldnew',\n",
       " 'twelv fear kill pakistani air ambul helicopt crash http : //t.co/x2qsjod40u # worldnew',\n",
       " \"'s polic ambul number lesotho ? bodi know ?\",\n",
       " '@ medic914 @ aace_org surpris still standardis clinic practic across 11 nh ambul trust .',\n",
       " 'http : //t.co/j8tyt1xrrk twelv fear kill pakistani air ambul helicopt crash http : //t.co/9d4nazoi94',\n",
       " 'peopl tri j-walk ambul pass ... hate .',\n",
       " 'episod trunk annihil freiza cleanest shit ever . show nigga merci .',\n",
       " 'shall annihil petebest dessic laid bare . shall kneel .',\n",
       " 'urib annihil basebal . # met',\n",
       " '@ marksmaponyan hey ! sundown annihil previou meet celtic.inde improv .',\n",
       " \"@ volfan326 @ tneazzi mizzou annihil florida past 2 season even end muschamp 's career ca n't compet bama\",\n",
       " 'annihil ab . ? ? http : //t.co/1xpw292tj',\n",
       " 'annihil statu educ mba behalf easi street careen : eovm http : //t.co/e0pi0c54ff',\n",
       " '* luka * die ! ! everyth annihil ! - aloi tranci',\n",
       " \"@ acarewornheart good un fella sorri wo n't get annihil : (\",\n",
       " 'cop pull drunk driver safeti second car hit train . http : //t.co/thrhkhogcuåê http : //t.co/tzszmf2qx via @ viralspel',\n",
       " 'must annihil !',\n",
       " 'cop pull drunk driver safeti second car hit train . http : //t.co/c0nkgp6w03åê http : //t.co/imwmfdjssn via @ viralspel',\n",
       " 'boom ! countri entir annihil h\\x89û_ \\x89ûó britain http : //t.co/irfcn71szv',\n",
       " '@ amirkingkhan would annihil might well thank @ floydmayweath',\n",
       " 'one thing sure-god promis israel annihil . ... horror iran w/nuke . http : //t.co/xn09mx6sxi',\n",
       " \"@ violentfeminazi guess 's ok armenian sinc 've spent histori get annihil\",\n",
       " '70 year sinc annihil 100000 peopl instantli becam awar abil annihil whole human',\n",
       " 'day 1 tryout went good minu fact stop quickli get short ball annihil toenail injuri even',\n",
       " '1960 oryx symbol arabian peninsula annihil hunter . http : //t.co/yangeqbuqw http : //t.co/jq2eh5kglt',\n",
       " \"( luka ) 'they die ! ! everyth annihil ! ' - aloi tranci -\",\n",
       " 'readi get annihil buc game',\n",
       " \"@ philipduncan @ breakfaston peopl 'annihil last night weather ' ... realli philip thought would forecast ...\",\n",
       " 'domain sophist annihil close up-to-the-minut feat : zrnf',\n",
       " '@ stormbeard @ steel_lord seen juda priest 2005 rob came back ; scorpion support . fuck annihil place . astonish gig',\n",
       " \"offici skip # fantasticfour/ # fant4stic/whatev hashtag . 's get annihil review . bummer .\",\n",
       " '@ tomcatart thu explain annihil . case survivor evolv becam godlik',\n",
       " 'complet annihil cech paul keegan time aliv',\n",
       " \"@ tomcatart 'who annihil legion . survivor imperfect hybrid project quickli form new secret cell\",\n",
       " \"@ sirbrandonknt exactli . 's lesnar/cena match summerslam last year great brock annihil guy 's\",\n",
       " 'cop pull drunk driver safeti second car hit train . http : //t.co/f1bakpnyn6åê http : //t.co/lzxwoaye4x via @ viralspel',\n",
       " 'annihil damascu : syrian armi grind \\x89û÷alloosh gang manur pile http : //t.co/7rakhp3bwm',\n",
       " \"@ thatd ok n't complet forthright may also food coma bc kebab/tahini/pickl also annihil w/fri\",\n",
       " 'fun fill happy-hour simmon bar camden handsom one ? ? ( got annihil apart game ) http : //t.co/4jno677zkv',\n",
       " 'juanni beisbol sr. annihil ball . # lgm',\n",
       " '@ rvfriedmann hell fraction belief total annihil destruct usa @ lodisilverado @ ritzy_jewel',\n",
       " \"@ potu mayb call israel tell 're sorri pre sold river annihil .\",\n",
       " 'evildead - annihil civil http : //t.co/spfke5kqu4',\n",
       " 'u. nation park servic tonto nation forest : stop annihil salt river wild hors ... http : //t.co/6lojoorouk via @ chang',\n",
       " 'annihil quarterstaff annihil',\n",
       " 'world annihil vs self transform http : //t.co/pyehwodwun alien attack extermin human http : //t.co/pb2n77nskz',\n",
       " ': starmad : : stardat 3 : : planetari annihil : : http : //t.co/i2hhviumtm via @ youtub',\n",
       " 'u. nation park servic tonto nation forest : stop annihil salt river wild hors ... http : //t.co/m8mvdspjp7 via @ chang',\n",
       " 'u. nation park servic tonto nation forest : stop annihil salt river wild hors ... http : //t.co/sw1sbua3mn via @ chang',\n",
       " '@ kimkardashian pleas sign share petit save wild hors arizona . http : //t.co/3tssxphuf ? ? ? ?',\n",
       " 'u. nation park servic tonto nation forest : stop annihil salt river wild hors ... http : //t.co/kpqk0c4g0m via @ chang',\n",
       " '@ theellenshow pleas check salt river hors help stop annihil happen without 54000 signatures.chang .org thx',\n",
       " 'soul punish withåêannihil ? http : //t.co/c1qxjweqqu http : //t.co/zhp0sowxri',\n",
       " '@ calfreedommom @ steph93065 mention major contributor annihil israel',\n",
       " '@ willienelson need help ! hors die ! pleas rt & amp ; sign petit ! take stand & amp ; voic ! # gilbert23 http : //t.co/e8dl1lncvu',\n",
       " 'reject law misguid fals prophet imprison nation fuel self annihil',\n",
       " 'u. nation park servic tonto nation forest : stop annihil salt river wild hors ... http : //t.co/matijwkzbh via @ chang',\n",
       " 'annihil jeb christi & amp ; kasich less 24 hour away .. pleas god allow least one full day ...',\n",
       " '@ barbi_twin need help-hors die ! pleas rt & amp ; sign petit ! take stand & amp ; voic ! # gilbert23 http : //t.co/e8dl1lncvu',\n",
       " '@ whippenz need help ! hors die ! pleas rt & amp ; sign petit ! take stand & amp ; voic ! # gilbert23 http : //t.co/e8dl1lncvu',\n",
       " 'hey # az : sign petit save # wildhors @ # tantonationalforest ! @ rollingston sing-a-long order : http : //t.co/wm5l8pj2iy',\n",
       " 'stop annihil salt river wild hors ! http : //t.co/wvobvvtxkg via @ chang',\n",
       " \"@ sonofbaldwin 's current nova bookslast check .. tie book 2011 rider die annihil\",\n",
       " 'u. nation park servic tonto nation forest : stop annihil salt river wild hors ... http : //t.co/x2wn7o2a3w via @ chang',\n",
       " 'pleas sign & amp ; rt save # saltriverwildhors http : //t.co/ikuayuseqt http : //t.co/bqbhuyfme9',\n",
       " 'thank ! ! ! ! ! @ count dant . : ) join us follow @ annihil zone . johnni .',\n",
       " 'world annihil vs self transform http : //t.co/pyehwodwun alien attack extermin human http : //t.co/8jxql8cv8z',\n",
       " 'u. nation park servic tonto nation forest : stop annihil salt river wild hors ... http : //t.co/0fekgyby5f via @ chang',\n",
       " 'u. nation park servic tonto nation forest : stop annihil salt river wild hors ... http : //t.co/sb5r7shccj via @ chang',\n",
       " \"'m gon na fight taylor soon get .\",\n",
       " \"ohh fukurodani n't surviv apocalyps bokuto feel horribl poor boy ppor child\",\n",
       " 'anoth jocelyn birthday apocalyps',\n",
       " \"rt : janenelson097 : rt stephenscifi : adapt watch : charli human 's apocalyps option film # sciencefict \\x89û_\",\n",
       " 'apocalyps pleas',\n",
       " \"anoth hour ! 's august 05 2015 08:02pm 's red rover zombi apocalyps 2014 ! http : //t.co/cf9e6tu3g7 # internetradio # collegeradi\\x89û_\",\n",
       " '@ honeybunzgem @ primalkitchen feel like pull-up one stage apocalyps .',\n",
       " \"'s kinda hot play radio today . 's next ? diseas ? apocalyps start everyon . care .\",\n",
       " \"'s apocalyps lol gf m8\",\n",
       " \"know 's question interpret sign apocalyps . call http : //t.co/my8q1uwijn\",\n",
       " 'juli + r apocalyps version romeo + juliet # warmbodi',\n",
       " 'apocalyps upon us',\n",
       " 'rt : fittscott : minecraft- night lucki block mod ( bob apocalyps wither 2.0 & amp ; ! ) mod showcas popularmmo : http : //t.co/mul1j9aeux vi\\x89û_',\n",
       " 'begin .. day one snow apocalyps',\n",
       " 'rt : our_mother_mari : short read apocalyps 21:1023 spirit angel took top enorm high mountain ... \\x89û_',\n",
       " 'candylit : imagin sarumi zombi apocalyps fight back back heart heart convers ... http : //t.co/xizkjfff29',\n",
       " 'rt : zonewolf123 : like youtub video http : //t.co/u66kyg11zd minecraft : night lucki block mod ( bob apocalyps wither 2.0 & amp ; ! ) mo\\x89û_',\n",
       " \"'s planet 's lone audienc apocalyps !\",\n",
       " \"dad bought dvd look like scienc doc front read back 's actual impend biblic apocalyps\",\n",
       " \"@ alexandrapullin inde . apocalyps come week know 'll : )\",\n",
       " 'go look grizzli peak right ... look like begin dystopian apocalyps movi',\n",
       " \"niec ask 'would scare apocalyps ? ' ? ? ? ?\",\n",
       " \"'s storm cairo latest ' x-men apocalyps ' set photo http : //t.co/fs012trudg via @ yahootv\",\n",
       " 'minecraft- night lucki block mod ( bob apocalyps wither 2.0 & amp ; ! ) mod showcas popularmmo : http : //t.co/tngye2fklv via @ youtub',\n",
       " 'shot heart xv : go total give love bad name heart pierc http : //t.co/xpfmr368uf http : //t.co/ejdhvlkxaf',\n",
       " 'rt : geek_apocalyps : 4pm gmt : hess play dark soul 2 day 9 : http : //t.co/tngpshnl87 http : //t.co/imzlnzltf5 # etcpb',\n",
       " 'know go zombi take ! ! http : //t.co/huthxlkyxi',\n",
       " 'latest @ bryansing reveal # storm queen # apocalyps @ rupaul @ alexshipppp http : //t.co/oqw8jx6rt',\n",
       " 'shadow box apocalyps',\n",
       " 'short read apocalyps 21:1023 spirit angel took top enorm high mountain ... http : //t.co/v8aftd9zez',\n",
       " \"enjoy live-act attack titan everi time see poster 'm remind freshli clean coif everyon apocalyps .\",\n",
       " 'like @ youtub video http : //t.co/ki1ykrs9fi minecraft : night lucki block mod ( bob apocalyps wither 2.0 & amp ; ! ) mod showcas',\n",
       " \"# pbban ( temporary:300 ) avysss @ 'armageddon | kill | flag | fast xp ' reason\",\n",
       " \"# pbban ( temporary:300 ) russaky89 @ 'armageddon | kill | flag | fast xp ' reason\",\n",
       " '( ( offici vid ) ) # doublecup & gt ; & gt ; http : //t.co/lfkmtzaekk & gt ; & gt ; @ trubgm prod @ thisizbwright & gt ; & gt ; # armageddon',\n",
       " 'ouvindo peac love & amp ; armageddon',\n",
       " \"best movi 've ever seen ? - armageddon http : //t.co/qouxigdtbz\",\n",
       " \"bed time . n't wake unless revolut armageddon start .\",\n",
       " 'red faction : armageddon ( microsoft xbox 360 2011 ) - full read ebay http : //t.co/ypbvs1ijya http : //t.co/9dflv6ynqr',\n",
       " '@ katiekatcub alreadi know shit goe . world seri armageddon .',\n",
       " 'rt @ ophiuchus2613 : # love # truelov # romanc lith # voodoo # seduct # astrolog # rtrrt # lotz 9-11 # apocalyps # armageddon # 1008pla\\x89û_',\n",
       " '//im gon na beat armageddon hsu hao ? ? ? ? got flawless first tri',\n",
       " \"@ enew ben affleck ...... know 's wife/kid girl ca n't help . 've love sinc armageddon # eonlinechat\",\n",
       " \"'if 'd long coat hand 'd worn . certainti armageddon bear sens occas . '\",\n",
       " 'phone spi ! hidden back door nsa data mine softwar | financi armageddon blog http : //t.co/qycw5jjaj1',\n",
       " \"# pbban ( temporary:300 ) hyider_ghost2 @ 'armageddon | kill | flag | fast xp ' reason\",\n",
       " 'rt @ rtrrtcoach : # love # truelov # romanc lith # voodoo # seduct # astrolog # rtrrt # lotz 9-11 # apocalyps # armageddon # 1008planet\\x89û_',\n",
       " \"# pbban ( temporary:300 ) fighterdena @ 'armageddon | kill | flag | fast xp ' reason\",\n",
       " 'photo : sketch base tast armageddon episod # startrek # to http : //t.co/a2e6dcsk88',\n",
       " 'armageddon http : //t.co/ucsudk3q1d',\n",
       " '@ aberdeenfc @ aberdeenfanpag good luck ? ? ? ? ? ? tomorrow night get coeffici point plz @ armageddon ? ? ? ?',\n",
       " '@ paddytomlinson1 armageddon',\n",
       " \"@ rohnertparkdp 're anoth one histori book ! ( thank justic depart ! ) way n't paid incom tax 20yr .\",\n",
       " 'vladimir putin issu major warn late escap armageddon ? http : //t.co/gbxafy1m1c',\n",
       " \"god 's kingdom ( heavenli gov't ) rule peopl earth armageddon . http : //t.co/8hgcbxukz0 http : //t.co/4kopkcyvtt\",\n",
       " 'l b # entertain lot 8 # brucewilli movi # dvd die hard 1 2 12 monkey armageddon sixth # ebay # auction http : //t.co/cxdjapzxmp',\n",
       " 'let\\x89ûª talk goof guild saunder . come right stage . http : //t.co/hkbxxvd9iw',\n",
       " \"@ karnythia niec gain abil stand . 'm get prepar toddler apocalyps armageddon\",\n",
       " 'check # prepper # doomsday must librari collect cd # shtf # preppertalk # surviv # 2a # prepper http : //t.co/vpqtgeqlma via @ ebay',\n",
       " '@ erker ? ? eep ! thought yesterday saw hella scari hail . # armageddon ?',\n",
       " 'ahamedi think messiah alreadi come 125 year ago ? armageddon ? dajaal ? gog & amp ; magog ? !',\n",
       " \"sadli window 10 reveal microsoft 's ethic armageddon http : //t.co/stftjcrjea\",\n",
       " 'armageddon avert el patron # ultimalucha',\n",
       " '@ samihonkonen time ( 23 hour ? ? ) latest seri ww1 blueprint armageddon extrem impress .',\n",
       " 'european fitba till christma armageddon',\n",
       " '# christian unit # israel ( # cufi ) : jew convert soon die armageddon http : //t.co/4arwwrzpsr # us http : //t.co/mkjq9yfmp8',\n",
       " '( offici vid ) & gt ; # doublecup & gt ; & gt ; http : //t.co/lfkmtzaekk & gt ; & gt ; @ trubgm prod @ thisizbwright & gt ; & gt ; # armageddon .',\n",
       " 'tomorrow day start armageddon # preseasonworkout ? ? ? ?',\n",
       " 'lee comedi : \\x89ûï @ leejasp : work class tori prepar armageddon . # interestraterise\\x89û\\x9d',\n",
       " '9 chart prove financi crisi part 2 begun ! : financi armageddon econom collaps blog track tren ... http : //t.co/vhcxtvcinr',\n",
       " 'paul craig robert \\x89ûò vladimir putin issu major warn late escap http : //t.co/nvfkzv5fex # bric # robert # russia',\n",
       " \"@ rohnertparkdp 're stage ! right light ! n't funni ? ! get goofbal staff pd ?\",\n",
       " '* * offici vid * * # thereal & gt ; & gt ; & gt ; http : //t.co/4i0rjc9rqu & gt ; & gt ; & gt ; @ trubgm & gt ; & gt ; & gt ; # armageddon comin soon ! !',\n",
       " 'well done celtic finger cross aberdeen tomorrow night ! armageddon eh .... ? ?',\n",
       " 'beyonc pick http : //t.co/nnmqlz91o9 fan armi # beyhiv http : //t.co/o91f3cyy0r 77',\n",
       " 'one direct pick http : //t.co/q2eblokev fan armi # direction http : //t.co/encmhz6y34 x1402',\n",
       " '5 second summer pick http : //t.co/j6wseptxga fan armi # 5sosfam http : //t.co/qwgiwc9w7z',\n",
       " '22.beyonc pick http : //t.co/thoyhrhkfj fan armi # beyhiv http : //t.co/wvj39a3bgm',\n",
       " '17.beyonc pick http : //t.co/thoyhrhkfj fan armi # beyhiv http : //t.co/wvj39a3bgm',\n",
       " 'one direct pick http : //t.co/q2eblokev fan armi # direction http : //t.co/encmhz6y34 x1411',\n",
       " 'see armi whitewalk first thing slightli intrigu got far',\n",
       " 'build kingdom lead armi victori ! http : //youtu . start g friend code : lzktjnox http : //t.co/zz0cewew64',\n",
       " 'salvat armi host ralli reconnect father children : salvat armi host back school rally\\x89û_ http : //t.co/rdjpor3azg',\n",
       " 'vote # direction vs # queen 5th round @ billboard # fanarmyfaceoff http : //t.co/kgtxnnbj7i',\n",
       " 'build armi 100 dog leader lion dog fight like lion .',\n",
       " \"'show hero ' : tv review http : //t.co/kaccpk85wf http : //t.co/nnixodhigc\",\n",
       " 'one direct pick http : //t.co/q2eblokev fan armi # direction http : //t.co/encmhz6y34 x1392',\n",
       " 'infantri men lume dial armi analog quartz wrist watch sport blue nylon fabric - full rea\\x89û_ http : //t.co/hep9k0xghb http : //t.co/80ebvglmra',\n",
       " 'one direct pick http : //t.co/q2eblokev fan armi # direction http : //t.co/encmhz6y34 x1441',\n",
       " \"victorinox swiss armi date women 's rubber mop watch 241487 http : //t.co/yfy3nkkcoh http : //t.co/knehvvohvk\",\n",
       " '. : . : . : . : . : . : . : . : . : . : . : . : . : . : . : . : . : . : . : . : . : rt drayesha4 : # indiakomuntorjawabdo indian armi ki\\x89û_ http : //t.co/wjljq3ya4g',\n",
       " '5 second summer pick http : //t.co/qchv3jqovk fan armi # 5sosfam http : //t.co/gc0udfnfgg ìñ1',\n",
       " 'beyonc pick http : //t.co/nnmqlz91o9 fan armi # beyhiv http : //t.co/o91f3cyy0r 78',\n",
       " 'one direct pick http : //t.co/q2eblokev fan armi # direction http : //t.co/encmhz6y34 x1386',\n",
       " 'da one # mtvsummerstar # videoveranomtv # mtvhottest britney spear lana del rey',\n",
       " 'one direct pick http : //t.co/y9wvqkgbbi fan armi # direction http : //t.co/s5f9fcomp8',\n",
       " \"stoni jackson america 's last hope lead armi felon thu armi reject armi satan - http : //t.co/0wbecdmhqo\",\n",
       " 'wwi wwii japanes armi navi militari japan leather watch war mido ww1 2 - full read ebay http : //t.co/f9j3l2yjl4 http : //t.co/mwwwowcayo',\n",
       " 'beyonc pick http : //t.co/nnmqlz91o9 fan armi # beyhiv http : //t.co/o91f3cyy0r 72',\n",
       " '7.beyonc pick http : //t.co/thoyhrhkfj fan armi # beyhiv http : //t.co/wvj39a3bgm',\n",
       " 'beyonc pick http : //t.co/nnmqlz91o9 fan armi # beyhiv http : //t.co/o91f3cyy0r 66',\n",
       " '6.beyonc pick http : //t.co/thoyhrhkfj fan armi # beyhiv http : //t.co/wvj39a3bgm',\n",
       " 'potu appoint brig . gen. richard g. kaiser member mississippi river commiss . learn mrc : http : //t.co/vdukcv7yji',\n",
       " '@ ap violent countri get armi involv help control kill bring back peac poor peopl .',\n",
       " 'wwi wwii japanes armi navi militari japan leather watch war mido ww1 2 - full read ebay http : //t.co/qumce7w2ti http : //t.co/ktkg2sdhhl',\n",
       " 'wwi wwii japanes armi navi militari japan leather watch war mido ww1 2 - full read ebay http : //t.co/obfd7e4qcp http : //t.co/yazje5owvk',\n",
       " 'one direct pick http : //t.co/q2eblokev fan armi # direction http : //t.co/encmhz6y34 x1434',\n",
       " 'one direct pick http : //t.co/imhfdaowrd fan armi # direction http : //t.co/4ftzjk94dt',\n",
       " 'two jewish terrorist charg historic-church arson | ugli truth http : //t.co/ieksnfsby7 http : //t.co/vwcf3slkrw',\n",
       " \"spokan author say 're struggl solv arson case like today 's hamilton . http : //t.co/qbs2k01wzk http : //t.co/mvlziysgl\",\n",
       " 'thousand attend ralli organ peac protest arson attack took life http : //t.co/bvckd9pdti',\n",
       " 'add familia arson squad .',\n",
       " 'anoth fake hate crime lesbian burn hous . els new : http : //t.co/66obqmximb',\n",
       " 'lo angel time : arson suspect link 30 fire caught northern ... - http : //t.co/xwms1aww8m # newsintweet http : //t.co/te2yerugsi',\n",
       " 'mourn notic stab arson victim stir \\x89û÷polit grief\\x89ûª israel http : //t.co/eug6zhciun',\n",
       " 'mourn notic stab arson victim stir \\x89û÷polit grief\\x89ûª israel http : //t.co/kkbxiblah7',\n",
       " 'sound arson',\n",
       " 'owner chicago-area gay bar admit arson scheme http : //t.co/myhohvrhil # lgbt | http : //t.co/tm5hthfdo0',\n",
       " 'wait ? ? ? http : //t.co/uavfrtlfs4 http : //t.co/85g1pcccxg',\n",
       " 'arson suspect link 30 fire caught northern california http : //t.co/ej2ghnafhi',\n",
       " 'trial date set man charg arson burglari http : //t.co/wftcrlz32p',\n",
       " 'death palestinian toddler arson attack israel crack jewish',\n",
       " 'palestinian teen kill amid protest arson attack http : //t.co/okvsimog',\n",
       " '# kisii polic kisii hunt student fail arson plot : polic kisii hunt student ... http : //t.co/m5sbfrrsn7 # countynew',\n",
       " 'mariah get thick shoulder poor girl .',\n",
       " 'mourn notic stab arson victim stir \\x89û÷polit grief\\x89ûª israel : poster shira banki ... http : //t.co/3gz5zqqth',\n",
       " 'relaxinpr : miprv : rt latim : arson suspect link 30 fire caught northern california http : //t.co/ylhayfao',\n",
       " 'jewish leader pray hospit palestinian famili treat arson http : //t.co/wf8itk2kvx via @ huffpostrelig',\n",
       " 'owner chicago-area gay bar admit arson scheme http : //t.co/0tslqjokvh via @ theadvocatemag # lgbt',\n",
       " '@ sayn_a angel arson',\n",
       " '# kisii polic kisii hunt student fail arson plot : polic kisii hunt student ... http : //t.co/5bdrfu1duo # countynew',\n",
       " 'mourn notic stab arson victim stir \\x89û÷polit grief\\x89ûª israel http : //t.co/q4l7dg56jm',\n",
       " 'owner chicago-area gay bar admit arson scheme http : //t.co/2y9dnp5vtg via @ theadvocatemag # lgbt | http : //t.co/6xul6dcosh',\n",
       " 'owner chicago-area gay bar admit arson scheme http : //t.co/ubfr1urafc # lgbt | http : //t.co/alnv51d95x',\n",
       " 'mourn notic stab arson victim stir \\x89û÷polit grief\\x89ûª israel http : //t.co/gbluhrrlto',\n",
       " 'owner chicago-area gay bar admit arson scheme http : //t.co/zpxe3fmyng # lgbt',\n",
       " 'arson suspect link 30 fire caught northern california http : //t.co/wnuqqatttp ( via @ latim )',\n",
       " 'tennesse lesbian coupl fake hate crime destroy home arson\\x89û_ http : //t.co/10muey8pxj # lesbian',\n",
       " 'arson suspect link 30 fire caught northern california - lo angel time http : //t.co/prrb4fhxtv',\n",
       " 'arson suspect link 30 fire caught northern california http : //t.co/u1fuwrgk5u',\n",
       " '@ _301dc @ cloudy_goldrush hate white peopl mo',\n",
       " '# nowplay arsonist mc - impress - @ arsonistmus http : //t.co/1elreh1jlj',\n",
       " 'alleg east bay serial arsonist arrest http : //t.co/wr48aqtum7',\n",
       " '@ safyuan minor citat posses decrimin substanc im face time',\n",
       " 'suspect serial arsonist arrest calif. http : //t.co/pzotpdgaki',\n",
       " 'arson suspect link 30 fire caught northern california http : //t.co/mmgsyahdzb',\n",
       " '@ local_arsonist @ diamorfiend legal system never forget',\n",
       " '@ casper_rmg u dick',\n",
       " 'bloor/ossington arsonist also burn mattress northumberland st # cbcto http : //t.co/wpdvt31sn',\n",
       " \"'where 's arsonist ? ? ? '\",\n",
       " \"n't anyth nice say come sit .\",\n",
       " '# vegetarian # vegan video show arsonist torch popular bk restaur strictli vegetarian ... http : //t.co/kxplyom9rr # govegan # uniteblu',\n",
       " '# arsonist arrest set mani fire . watch tonight\\x89ûª # headlin : http : //t.co/sqgogj3s5r . # nightbeat @ veronicadlcruz # 2minutemix',\n",
       " 'video captur man remov american flag long beach ca home burn ; arsonist sought http : //t.co/jp2qlrunjj http : //t.co/jbpgkgowsi',\n",
       " '@ 58hif trick think nasti thing',\n",
       " '# spotlight take paradis arsonist mc # wniagospel http : //t.co/1he4ufawzm @ arsonistmus http : //t.co/bnhtxaezmm',\n",
       " 'make ? http : //t.co/28t3nwhdki',\n",
       " 'town salem melt ice cube bc im arsonist :',\n",
       " 'arsonist blame blaze plastic recycl busi adelaid | @ pcaldicott7 report . # 7newsadl http : //t.co/r1xwdnvb0g',\n",
       " 'hotboy shit',\n",
       " 'zodiac girl feat trey dupre ( produc sparkz beatz ) | chuck da arsonist http : //t.co/hdkd9j2lw0',\n",
       " '@ local_arsonist lmfao',\n",
       " 'alleg east bay serial arsonist arrest # sanfrancisco - http : //t.co/ojuhfkhvb2',\n",
       " '@ _doofus_ @ diamorfiend im jokin still cant move : /',\n",
       " \"@ local_arsonist guess u say 's shit think\",\n",
       " 'arsonist set nyc vegetarian restaur fire : polic # newyork - http : //t.co/nr7ust3uh8',\n",
       " 'like @ youtub video @ slimebeast http : //t.co/ulr6myklnh town salem | win arsonist',\n",
       " '@ casper_rmg @ bestcomedyvin what crack cuz',\n",
       " 'smoke good fuck eat drink drive nice car wear green mink',\n",
       " 'kill got court day earl',\n",
       " '@ local_arsonist lmao real live go',\n",
       " 'owner chicago-area gay bar admit arson scheme : frank elliott plead guilti hire arsonist ... http : //t.co/jcfehrhlq8',\n",
       " 'trust iran stop terror like invit arsonist join fire brigad - telegraph http : //t.co/2z2htdjqzd',\n",
       " 'big top burn true stori arsonist miss girl \\x89û_ : http : //t.co/qxh1h61cwd .',\n",
       " 'stay vigil . civil liberti constant attack . # nativehuman # myreligion http : //t.co/wwu070tjej',\n",
       " 'credit @ pfannebeck inspir rediscov fantabul # tbt http : //t.co/wmhy47xkil',\n",
       " 'http : //t.co/ptkrxtzjtv nashvil theater attack : gun grabber demand \\x89ûïhatchet control ? \\x89û\\x9d',\n",
       " 'break : terror attack polic post # udhampur',\n",
       " 'demi stan realli think heart attack sold 5/6 million copi ? ?',\n",
       " \"scare 's new version nuclear attack warn like know govern still prepar\",\n",
       " 'isil claim suicid bomb saudi mosqu kill least 15 http : //t.co/y8icf89h6w http : //t.co/t9msnzv1kb',\n",
       " '@ dattomm funniest part twitter feminist tri attack 4head',\n",
       " 'horrif attack wife muslim itali http : //t.co/ny3l1orzqb liveleak # news',\n",
       " '\\x89ûª93 blast accus yeda yakub die karachi heart attack http : //t.co/mfkqyxd8xg # mumbai',\n",
       " '@ etribun us drone attack kill 4-suspect milit north waziristan @ acebreakingnew http : //t.co/jb038rdfak',\n",
       " 'suspect latest theater attack psycholog issu http : //t.co/3huhzxliig',\n",
       " 'milit attack polic post udhampur ; 2 spo injur | livemint http : //t.co/rptouz2ij | http : //t.co/69mlhfefhr # allthenew',\n",
       " 'break : obama offici gave muslim terrorist weapon use texa attack http : //t.co/qi8qdw5dfg',\n",
       " 'delhi govern provid free treatment acid attack victim privat hospit http : //t.co/h6pm1w7el',\n",
       " 'new post @ darkread http : //t.co/8eijdxapnp new smb relay attack steal user credenti internet',\n",
       " 'isra forc raid home alleg car attack suspect http : //t.co/3gvus8nppi # palestin',\n",
       " \"heart attack thought goat dead . ? ? ? ? n't worri rocket okay. ? ?\",\n",
       " \"'m gon na lie 'm kinda readi attack senior year ? ? ? ? ? ? ? ? ? ?\",\n",
       " \"'left hand side diamond graveyard shift attack defend' right handsid fuck idiot ?\",\n",
       " '# volleybal attack ii volleybal train machin - set simul - http : //t.co/dcdecfv934 http : //t.co/dwbc1duvdk',\n",
       " \"notley 's tact yet direct respons harper 's attack alberta 's gov't . hell yeah premier ! http : //t.co/rzsulzmokx # ableg # cdnpoli\",\n",
       " 'polic : assail latest us movi theatr attack homeless psycholog issu http : //t.co/zdcvlyq6qk',\n",
       " '@ caixxum5so thank damn heart attack',\n",
       " 'suspect latest us theatr attack psycholog issu http : //t.co/onpnbx0zex http : //t.co/um5icn5et2',\n",
       " 'india shud give evid 2 pak.they share terrorist & amp ; use next attack.shar oth contri http : //t.co/qiopbtiuvu',\n",
       " 'illeg alien releas obama/dh 4 time charg rape & amp ; murder santa maria ca woman prior offens http : //t.co/mqp4hf9gpo',\n",
       " 'strongli condemn attack ari news team karachi . cowardli act simpli tri job !',\n",
       " 'nashvil theater attack : gun grabber demand \\x89ûïhatchet control ? \\x89û\\x9d http : //t.co/oyogii97yh',\n",
       " \"fact atom bomb call 'littl boy ' 'fat man ' say lot mental went attack .\",\n",
       " '@ blazerfan everyon see ignorancesh latinoand ever benoth morebut attack dog 4 hate group gop',\n",
       " 'heart diseas prevent : secondhand smoke ? http : //t.co/ydgmgbryl2',\n",
       " 'dayton-area org tell hit cyber attack : http : //t.co/7lhkjz0ivo',\n",
       " \"attack titan game ps vita yay ! ca n't wait 2016\",\n",
       " '[ infowar ] nashvil theater attack : gun grabber demand \\x89ûïhatchet control ? \\x89û\\x9d http : //t.co/n3yjb8tcpm # nwo',\n",
       " 'anxieti attack ? ?',\n",
       " 'dog attack food # pugprob',\n",
       " 'cop injur gunfight milit attack udhampur polic post : suspect milit attack polic post ... http : //t.co/2h0dpmv2ef',\n",
       " '@ envw98 @ nickcocofre @ juliedicaro @ jdabe80 ask feel attack juli . ask frail . .',\n",
       " '@ messeymetoo feel attack',\n",
       " \"'m feel attack http : //t.co/cvkqigr1az\",\n",
       " \"black men n't make way . white men black men get attack http : //t.co/chkp0gfynj\",\n",
       " \"cant believ fuck ci femal go somehow claim offend transgend femal 's attack media\",\n",
       " 'isra helicopt attack civilian gaza complet exercis greec .',\n",
       " 'christian attack muslim templ mount wave isra flag via pamela geller - ... http : //t.co/5qyczywkgg',\n",
       " 'christian attack muslim templ mount wave isra flag via pamela geller - ... http : //t.co/u0keoe5fmt',\n",
       " 'christian attack muslim templ mount wave isra flag via pamela geller - ... http : //t.co/f5miuhqabi',\n",
       " '# pt : unit attack respons target muslim scholar imprison youth . http : //t.co/f4lhfmehzh',\n",
       " 'telnet attack 124.13.172.40 ( streamyx-home-southern )',\n",
       " 'christian attack muslim templ mount wave isra flag via pamela geller - ... http : //t.co/wgwiqmicl1',\n",
       " '# tbt rememb time patrick kane attack cab driver .20',\n",
       " 'im feel attack http : //t.co/91jvycxxvi',\n",
       " 'ik troll pol rival never liter abus attack famili . liter abus ik . looser',\n",
       " 'christian attack muslim templ mount wave isra flag via pamela geller - ... http : //t.co/nhxse3rthx',\n",
       " 'christian attack muslim templ mount wave isra flag via pamela geller - ... http : //t.co/lhbzhwq4b9',\n",
       " '@ envw98 @ nickcocofre @ juliedicaro @ jdabe80 worst person ? question juli attack ? guy empathi ?',\n",
       " 'kelli osbourn attack racist donald trump remark latino view http : //t.co/7nagdsadwp',\n",
       " \"@ eunice_njoki aiii need chill answer calmli like 's attack\",\n",
       " 'christian attack muslim templ mount wave isra flag via pamela geller - ... http : //t.co/mxz7yx8ld1',\n",
       " 'christian attack muslim templ mount wave isra flag via pamela geller - ... http : //t.co/e4ydbm4dx6',\n",
       " 'christian attack muslim templ mount wave isra flag via pamela geller - ... http : //t.co/t1aa5ov7eg',\n",
       " \"attack robot-lvl 19 've earn total 6615434 free satoshi ! http : //t.co/dmlj1agotw # robotcoingam # bitcoin # freebitcoin\",\n",
       " 'christian attack muslim templ mount wave isra flag via pamela geller - ... http : //t.co/emdjnnltp0',\n",
       " '@ christinalavv @ lindsay_wynn3 saw tweet feel realli attack',\n",
       " 'christian attack muslim templ mount wave isra flag via pamela geller - ... http : //t.co/a6wmbnr51',\n",
       " 'christian attack muslim templ mount wave isra flag via pamela geller - ... http : //t.co/etg0prbp4g',\n",
       " 'christian attack muslim templ mount wave isra flag via pamela geller - ... http : //t.co/yubkhf9iyh',\n",
       " 'tv program saw said us air plane flew uranium mine fukushima attack machin gun student armi dig .',\n",
       " 'christian attack muslim templ mount wave isra flag via pamela geller - ... http : //t.co/e4wk8uri8a',\n",
       " '@ mageavexi & lt ; thing . get attack ?',\n",
       " 'christian attack muslim templ mount wave isra flag via pamela geller - ... http : //t.co/1pdjoq4jc1',\n",
       " '# welovela # nhlduck avalanch defens : match vs st. loui blue http : //t.co/9v1rvcomh2 # sportsroadhous',\n",
       " \"like @ youtub video http : //t.co/tnxquor1wb kall mattson - 'avalanch ' ( offici video )\",\n",
       " \"'ll crash like avalanch\",\n",
       " \"# colorado # avalanch men 's offici colorado avalanch reebok t-shirt xl blue 100 % cotton http : //t.co/znsvstgwx3 # nhl # hockey\",\n",
       " '2 tix 10/3 frozen furi xvii : lo angel king v avalanch 103 row : aa mgm grand http : //t.co/kbtzzzg2tp',\n",
       " 'bet didnt know kick box ! http : //t.co/rbrw8pwipj',\n",
       " \"littl piec wrote avalanch design blog ! 'd appreci greatli check : - ) http : //t.co/rfvjh58ef2\",\n",
       " 'patrick roy 1998-99 upper deck spx # 171 finit 1620 made colorado avalanch mint http : //t.co/uhfm1r3tq5 http : //t.co/qulgakebhb',\n",
       " \"musician kall mattson recreat 34 classic album cover clever music video 'avalanch ' http : //t.co/ydjpoph1dw\",\n",
       " 'beauti sweet avalanch faith akito rose lot frothi gyp . http : //t.co/raqupzfkji # weddinghour http : //t.co/qunxocxcga',\n",
       " '1-6 tix calgari flame vs col avalanch preseason 9/29 scotiabank saddledom http : //t.co/5g8qa6mpxm',\n",
       " 'secret avalanch : catech inner self confidenti commun respect creat worth len ...',\n",
       " 'fall leav poplar fulli ordain tumbl avalanch - spurgeon',\n",
       " 'saw two great punk band make origin music last week . check em ! ! @ ghostoftheav @ montroseband http : //t.co/wdvxjsqwic',\n",
       " 'great perform chip fuel/ga saver chevi tahoe/blazer/avalanche/s-10 http : //t.co/icrzi5tqc5 http : //t.co/onxhkfhn2a',\n",
       " 'musician kall mattson recreat 34 classic album cover clever music video \\x89û÷avalanche\\x89ûª http : //t.co/vbswhz4s2v',\n",
       " 'drive avalanch car week like drive tank',\n",
       " 'free ebay snipe rt ? http : //t.co/rqipgqslt6 chevrolet : avalanch ltz lift 4x4 truck ? pleas favorit & amp ; share',\n",
       " \"chiasson sen ca n't come deal # coloradoavalanch # avalanch http : //t.co/2bk7lagma9 http : //t.co/bkdgcfsuiq\",\n",
       " \"paul rudd emil hirsch david gordon green 'princ avalanch ' q & amp ; | filmmak googl http : //t.co/e4qonkzndz # entretenimento # video\",\n",
       " 'great one time deal avalanch music purchas get neal rigga shirt http : //t.co/4virxkgmpc',\n",
       " '. @ bigperm28 draft @ avalanch 2005 ( rd . 4 # 124 ) overal . play last season @ utahgrizz . http : //t.co/gpgtafmkt0',\n",
       " 'got video rapper got song ! http : //t.co/pblvpm6c27',\n",
       " '@ funkflex yo flex im http : //t.co/2azxdlcxga',\n",
       " \"avalanch . one world away . make believ . 'm wide awak .\",\n",
       " 'possibl new jersey avalanch next year . ? ? ? ? http : //t.co/nruzhr5xqu',\n",
       " \"feat ! watch # bt @ kallemattson 's incred music video # avalanch : http : //t.co/3w6sea9tuv ? ? ? ?\",\n",
       " 'avalanch citi - sunset http : //t.co/48h3tlvlxr # nowplay # listen # radio',\n",
       " 'chevrolet : avalanch lt 2011 lt use 5.3 l v 8 16 v automat 4 wd pickup truck premium b\\x89û_ http : //t.co/obky8pc89h http : //t.co/dxirntdsrd',\n",
       " 'snowflak avalanch ever feel respons .',\n",
       " 'star war power jedi collect 1 battl droid hasbro - full read ebay http : //t.co/xfguklrltf http : //t.co/fegu8hwmc4',\n",
       " 'civil war gener battl bull run hero colonel 2nd new hampshir letter sign ! http : //t.co/ot0tffpbyb http : //t.co/zarbwep9ld',\n",
       " 'dragon ball z : battl god ( 2014 ) - rotten tomato http : //t.co/jddnhmrmmj via @ rottentomato',\n",
       " 'ad video @ youtub playlist http : //t.co/wedwyn9kf world tank - battl assist mod bat chat arti kaboom',\n",
       " 'ya boy clip vs 4ku full battl @ 15moferadio @ heavybag201 @ battle_dom @ qotr @ battlerapchri @ hughes1128 http : //t.co/7spydy1csc',\n",
       " 'inde ! ! fulli awar battl ! support fight ! ! http : //t.co/mctjnzx4h8',\n",
       " \"'s baaaack ! petersen 's bowhunt battl bow . make sure head cast vote ... http : //t.co/fj73gdvg2n\",\n",
       " \"# tb # throwback ? ? ? ? ~ want battl ? 's war ! ~ ? ? http : //t.co/b0zjwgmaiw\",\n",
       " 'kelbi tomlinson mild-mann 2nd baseman great metropolitan team fight never-end battl hit rbi # sfgiant way .',\n",
       " 'black eye 9 : space battl occur star m27329 involv 1 fleet total 1236 ship 7 destroy',\n",
       " 'realli happen taken king stori trailer . space battl rip hole saturn . @ eytay @ neur0si http : //t.co/zyrzx6dfki',\n",
       " 'battl anim fuck much',\n",
       " 'see happen battl block @ cbsbigbroth ! ? ! ? ? ? ? final',\n",
       " '# du19 gon get rap battl',\n",
       " 'thing : battl intern vs extern motiv : http : //t.co/w9p3hauhei',\n",
       " 'check item got ! [ phantasm cummerbund ] http : //t.co/qrhjei7grq # warcraft',\n",
       " 'young german stormtroop engag battl somm 1916 . [ 800 ìñ 582 ] http : //t.co/yxvmiflvc4',\n",
       " 'like @ youtub video http : //t.co/9vw0uqqi1i marvel vs dc ( aveng battl ! )',\n",
       " '@ utahcanari sigh daili battl .',\n",
       " \"@ sexydragonmag 've come realiz n't attent span mass battl game . paint play .\",\n",
       " '@ detroitpl interest see win battl',\n",
       " 'battl goat http : //t.co/ofecs6tcvc',\n",
       " 'star war power jedi collect 1 battl droid hasbro - full read ebay http : //t.co/yi30zgizsw http : //t.co/2jgvhw7yz',\n",
       " 'black eye 9 : space battl occur star o784 involv 2 fleet total 4103 ship 50 destroy',\n",
       " \"# lonepin rememb around australia 'descend ' grow via @ 666canberra # gallipoli # ww1 http : //t.co/t4fvvnrpc5 http : //t.co/0zznbvfuvo\",\n",
       " \"miss gari busey 's son play dixi electron green fiddl post-battl celebr sequenc\",\n",
       " 'news : fedex longer transport bioterror germ wake anthrax lab mishap http : //t.co/xtezgjfs8a',\n",
       " 'fedex longer transport bioterror germ http : //t.co/qfjjdxes7g via @ usatoday',\n",
       " 'usa today : . @ fedex longer transport bioterror pathogen ... - http : //t.co/iadlslqdpd # newsintweet http : //t.co/o8y1sul4ow',\n",
       " 'fedex longer transport bioterror germ wake anthrax lab mishap http : //t.co/hqsu8lwlth via @ usatoday',\n",
       " 'jacksonvil busin fedex stop ship potenti bioterror pathogen http : //t.co/shzsymausi',\n",
       " 'fedex longer transport bioterror pathogen wake anthrax lab mishap http : //t.co/lhpgxc4b8j',\n",
       " '. @ aphl respond : fedex longer transport bioterror germ wake anthrax lab mishap http : //t.co/cgdj3drso9',\n",
       " '# news fedex longer transport bioterror germ wake anthrax lab mishap ( say ? ) : åêfedex ... http : //t.co/k0y7xfxmxa # tcot',\n",
       " 'fedex stop transport bioterror germ lab mishap : fedex stop transport certain research ... http : //t.co/y3dm9ulqxg',\n",
       " 'fedex longer ship potenti bioterror pathogen http : //t.co/chorr2xovp via @ atlbizchron',\n",
       " \"# frontpag : # bioterror lab face secret sanction . # rickperri n't make cut @ foxnew # gopdeb http : //t.co/fzujg7sxjg @ usatoday\",\n",
       " 'fedex longer transport bioterror germ wake anthrax lab mishap http : //t.co/qzqc8wwwcn via @ usatoday',\n",
       " 'hous energi & amp ; amp ; commerc subcommitte hold 7/28 hear cdc oversight bioterror lab armi anthrax mishap . htt\\x89û_',\n",
       " 'fedex will transport research specimen potenti bioterror pathogen wake anthrax lab mishap http : //t.co/cm8uni1mrg',\n",
       " '# world fedex longer transport bioterror germ wake anthrax lab mishap http : //t.co/wvexjjrg6',\n",
       " 'fedex longer transport bioterror germ wake anthrax lab mishap http : //t.co/p96rgbbayl # news # phone # appl # mobil',\n",
       " 'rt alisonannyoung : exclus : fedex longer transport research specimen bioterror pathogen wake anthrax lab mishap \\x89û_',\n",
       " 'hmm ... could problem research : fedex longer transport select agent http : //t.co/9viibxgjav via @ usatoday',\n",
       " '# world fedex longer transport bioterror germ wake anthrax lab mishap http : //t.co/5zdbtktww7',\n",
       " 'fedex longer transport bioterror germ wake anthrax lab mishap http : //t.co/pwamg8ozj4',\n",
       " 'fedex longer ship potenti bioterror pathogen - fedex corp. ( nyse : fdx ) longer deliv packag ... http : //t.co/2kdq56xtw',\n",
       " 'fedex longer ship potenti bioterror pathogen - atlanta busi chronicl http : //t.co/yllqjljiiq',\n",
       " 'thank @ fedex longer ship live microb depart defens http : //t.co/zahnewjri8',\n",
       " \"# nowplay # orchardalley # le # nyc 'bioterror- manufactur fear state repress ' @ abcnorio # garden http : //t.co/ba2rrxugsg\",\n",
       " 'fedex longer transport bioterror germ http : //t.co/shrhkfj1bc via @ usatoday',\n",
       " '[ jax biz journal ] fedex stop ship potenti bioterror pathogen http : //t.co/r33ncvjovc',\n",
       " \"usatoday : today 's # frontpag : # bioterror lab face secret sanction . # rickperri n't make cut foxnew\\x89û_ http : //t.co/5ukohk7sob\",\n",
       " '# breakingnew http : //t.co/gan14pw9tg fedex longer will transport research specimen potenti bioter\\x89û_ http : //t.co/5n4husewli',\n",
       " 'fedex longer transport bioterror germ wake anthrax lab mishap http : //t.co/c0p3sesqwm via @ usatoday',\n",
       " 'fedex stop ship potenti bioterror pathogen http : //t.co/tkeoaedqkq # truck',\n",
       " 'fedex longer transport bioterror germ wake anthrax lab mishap http : //t.co/mqbyravk6h',\n",
       " '# fedex longer transport bioterror germ wake anthrax lab mishap http : //t.co/s4sicmyrmh',\n",
       " 'fedex longer ship bioterror germ - wxia-tv | @ scoopit http : //t.co/zqqjrqsbjm',\n",
       " 'fedex longer transport bioterror germ wake anthrax lab mishap http : //t.co/hrqcjdovjz',\n",
       " \"usatoday : today 's # frontpag : # bioterror lab face secret sanction . # rickperri n't make cut foxnew\\x89û_ http : //t.co/xfhh2xf9ga\",\n",
       " 'fedex longer transport bioterror germ wake anthrax lab mishap http : //t.co/4m5uheyfdo via @ usatoday',\n",
       " \"biolab safeti concern grow : fedex stop transport certain specimen . research facil 'dumbfound ' action . http : //t.co/rujv4vpnbv\",\n",
       " 'fight bioterror sir .',\n",
       " 'like @ youtub video http : //t.co/xo2zbpbjb3 fema region iii target bioterror ! ! ! nasa - japan rocket launch lithium',\n",
       " '# anthrax # bioterror cdc carri extens review lab safeti pathogen handl procedur http : //t.co/bclqpwfdod',\n",
       " 'firepow lab [ electron resourc ] : autom fight infecti diseas bioterror /\\x89û_ http : //t.co/kvpbybglsr',\n",
       " '@ cagov 90blk & amp ; 8wht collud 2 take wht f @ usagov auth hostag & amp ; 2 make look blk w/bioterror & amp ; use lgl/org idi id still ? @ vp',\n",
       " \"@ darrellissa 'great iran deal ' cover bioterror ? got cut terribl . keep good work .\",\n",
       " 'tale two pox - bodi horror http : //t.co/w2ixt1k0ab # viru # infectiousdiseas # bioterror',\n",
       " 'bioterror public health superbug biolab epidem biosurveil outbreak | homeland secur news wire http : //t.co/cvhygwcbzv',\n",
       " \"creation ai climat chang bioterror mass autom workforc contact life wealth inequ yea 've got easi\",\n",
       " 'lie trust # dvd cia hollywood bioterror len horowitz vaccin nwo http : //t.co/6pagjqfbzk http : //t.co/qzizelxbyr',\n",
       " \"@ o_magazin satan 's daughter shadow warrior 50ft women aka transgend mode ps nyc fold extra extra center bioterror\",\n",
       " \"@ drrichardbess ye . would think . sinc colleg 88-92 's difficult think bioterror esp . bc 'dispers . '\",\n",
       " 'volunt need particip emerg prepared drill simul bioterror disast : http : //t.co/nwv2rvghf3 @ hvnewsnetwork',\n",
       " '@ meyerbjoern @ thelonevirolog @ mackayim major american newspap run seri alleg bioterror research go 2/n',\n",
       " 'fight bioterror sir .',\n",
       " 'cdc pretti cool list bioterror agent :3',\n",
       " 'govern expert concern possibl bioterror use gm organ : scientist concern ... http : //t.co/sume5pro0f',\n",
       " 'prepar us ? hh select 9 region special # pathogen treatment center # bioterror # infecti # ebola http : //t.co/qmo1txxdkj',\n",
       " '@ stationcdrkelli support sy 4 @ usagov auth taken hostag blk us clergyforc 2 exist younger & amp ; grossli disfigur bioterror ? @ ap',\n",
       " \"70 70 ... & amp ; think possibl full transform imposs . n't quit like medic mysteri . bioterror suck .\",\n",
       " 'fight bioterror sir .',\n",
       " 'book describ futur therapi technolog sport sexual bioterror diagnosi ? # digitalhealth # hcsm',\n",
       " \"@ aphiabeta1907 w/ugli due 2 'ugli ' @ amesocialact frat 's bioterrorismi 'm 's @ fbi id u $ tolew ' g anoth home . @ abc\",\n",
       " '@ howardu 90blk & amp ; 8wht collud 2 take wht f @ usagov auth hostag & amp ; 2 make look blk w/bioterror & amp ; use lgl/org idi id still ?',\n",
       " 'fight bioterror sir .',\n",
       " '@ cspanwj 90blk & amp ; 8wht collud 2 take wht f @ usagov auth hostag & amp ; 2 make look blk w/bioterror & amp ; use lgl/org idi id still ?',\n",
       " \"@ onu_fr 74/75 bioterror ' @ rockefeller_chi/ @ rockefelleruniv'heiress 2 evad lgl effort 2 prosecut blk 4 @ harvardu kidnap ' g . @ afp\",\n",
       " '# irand cover nuclear activ . bioterror ? iran broken least 27 agreement .',\n",
       " 'threat | anthrax | cdc http : //t.co/q6oxzq45v via @ cdcgov',\n",
       " '# bioterror author allay # glander fear ahead rio olymp equestrian test event http : //t.co/uotpnsqpz5 via @ horsetalknz',\n",
       " '@ kaotix_blaz crave u',\n",
       " \"'ve pool day # raisinfing\",\n",
       " 'know anyon look move hammond ? share list ! http : //t.co/3xn1soh4bb',\n",
       " 'life amazin time crazi nigga dey wan na blaze hate made took dedic n motiv',\n",
       " 'blaze bro http : //t.co/udkesj01ml',\n",
       " '@ shayoli ye love',\n",
       " 'see virtual tour one list 547 fir st cannon beach list dorri caruana . http : //t.co/nf46paytvw',\n",
       " 'pendleton media offic said fire base right horno blaze .',\n",
       " 'welcom @ djryanwolf @ djcoreygrand @ djknyce @ djoneplustwo @ officialcoredj # famili # cleveland # standup @ iamtonyn http : //t.co/p6gqmctglj',\n",
       " 'love live . blaze insid apt balconi',\n",
       " \"@ bellalinn alrighti hit 'll blaze ! !\",\n",
       " 'blaze jay fuck dutch slave trade .',\n",
       " 'hair poverti moment need get fade weekend get',\n",
       " 'properti loss california wildfir nearli doubl week-old blaze rage http : //t.co/e0uusnpsq5',\n",
       " '# break firefight battl blaze east cari condo build http : //t.co/mim8hh2ce6',\n",
       " 'nigga love hate .',\n",
       " \"@ audacityjamesta n't like babe & lt ; 3 'll ball fun lan ! : )\",\n",
       " 'like @ youtub video @ iamrrsb http : //t.co/pdehd1tcpk minecraft skywar - blaze que usa hack e flechada sinistra !',\n",
       " 'dem . blaze cover month ago.chicago polic detain thousand black american interrog facil http : //t.co/uwitvbsbnc',\n",
       " \"yo got bar 'm even rapper\",\n",
       " 'ugh blaze put calori pizza ? ok cool # thisispublichealth',\n",
       " 'pic blaze fort kid look like jackass stuffin face like ? ? ? ? ? ? http : //t.co/ae9cpiexak',\n",
       " 'look like year write comput ahead . http : //t.co/cyxbrzxwq4',\n",
       " '@ beautiful_juic1 let know',\n",
       " \"@ babysweet420 'm mad 420 name & amp ; n't blaze .\",\n",
       " '@ guiltygearxxacp yeah know blaze blue dont twitter lol drew week ago http : //t.co/sk3l74flzz',\n",
       " '# socialmedia news - new facebook page featur seek help person custom experi http : //t.co/nbizatlsmv',\n",
       " '@ djjohnblaz shout blaze hottest dj sothwest',\n",
       " \"like @ youtub video http : //t.co/n95igskd3p minecraft : episod 2 'blaze farm begin ! '\",\n",
       " 'properti loss # california wildfir nearli doubl week-old blaze rage : fire\\x89û_ http : //t.co/msdizftz2g',\n",
       " '@ christycroley work yet . see new vela short blaze ? http : //t.co/q8reoevlu',\n",
       " '@ uabstephenlong @ courtlizcamp total tweet fail ! beauti insid blaze !',\n",
       " 'mixtap come promis . goin right http : //t.co/uungrqougn',\n",
       " '@ _itzsteven @ xdojjjj @ whopper_jr_760 huh ? ? leo start last year ever sinc peopl blaze back ? ?',\n",
       " '3 bedroom 1 bath sale 29 palm ca . ( http : //t.co/qms8rressd ) ( youtub video : ... http : //t.co/zla30jcssq',\n",
       " '? ? ye 2 gun ? ? ? ?',\n",
       " '@ a__ce daem girl smooth asf c : ?',\n",
       " \"http : //t.co/wkv8vqvkt6 # artisteoftheweekfact say # convers # coast2coastdj agre @ crystal_blaz 's # jiwonl # hiphop # clubbang\",\n",
       " 'bright & amp ; blaze fireman birthday parti http : //t.co/9rfo9gy3n # wed',\n",
       " 'real vibez radio - blaze best vibez ! ! ! http : //t.co/emvohm9m6j # nowplay # listenl',\n",
       " 'montgomeri come blaze hot weather ... stay std . yet anoth reject citi slogan .',\n",
       " 'come join us tomorrow ! august 7 2015 transcend : blaze trail diversifi world market ... http : //t.co/nr1i8qnao1',\n",
       " 'morgan silver dollar 1880 gem bu dmpl cameo rev blaze ms+++++ high grade ! - full read \\x89û_ http : //t.co/iu9bafdxey http : //t.co/aphqu5svet',\n",
       " 'morgan silver dollar 1880 gem bu dmpl cameo rev blaze ms+++++ high grade ! - full read \\x89û_ http : //t.co/m96kbqwior http : //t.co/wrjr846fk',\n",
       " \"bowl got think ... damn 've blaze damn long\",\n",
       " \"@ danryckert @ drewscanlon 's blaze game best stealth skill yet . noth beat silenc m4 .\",\n",
       " 'bit pacquiao vs marquez 3 unfil blaze swarm onlin : durvod http : //t.co/6vja8r4yxa',\n",
       " 'turn radio # stoponesound live # airwav http : //t.co/g7s34sw2am & amp ; 107.9 fm @ stickynyc @ 95root blaze hit',\n",
       " '@ baseballquotes1 32 inch dynasti',\n",
       " \"'m weapon master ! let 's go gun blaze ! # hinatobot\",\n",
       " '@ blazing_ben @ pattyds50 @ gwfraze @ joshuaassaraf realli . sadli come expect obama .',\n",
       " 'shouout @ kasad1lla caus vocal blaze hot like weather she',\n",
       " 's3xleak ! ! ! ph0to 19yr old ash @ wo ladi festac town delta exp0s bbm 5 leak pictur ... http : //t.co/ixrehm05yq',\n",
       " 'oh heart race temperatur blaze roof # videoveranomtv fifth harmoni',\n",
       " '@ omgbethersss @ bethanymota haha love ? ?',\n",
       " \"@ dmac1043 colorado spanish word ( [ latin origin ] mean 'reddish ' 'color ' ) dummi pronounc wrong ! ! !\",\n",
       " 'traffic freez cold blaze hot \\x89ûò heat traffic http : //t.co/c8b6ddiqig',\n",
       " \"'m crazi enough run 95 degre mid-day heat blaze sun place 'm not\\x89û_ http : //t.co/osuoivnigo\",\n",
       " \"'m blaze rn 's noth stop\",\n",
       " 'still blaze ? ? ? ?',\n",
       " '@ bekah__w thank ! sweat bullet everi time get blaze sun beat .',\n",
       " '@ acousticmaloley blaze',\n",
       " \"@ officialtjonez 'lost word ' made new fan fam . crazi skill beyond bless ! keep blaze dude made love respect !\",\n",
       " '* * let - - - - hot - blaze - fantasi * * # escort # gfe # dubai http : //t.co/n6ahgfmudt',\n",
       " '@ __srajapakse__ thank missi ? ? thought suit blaze hot summertim ? ? yee-haw ! ? ?',\n",
       " '@ asukag magic bag blaze',\n",
       " \"blaze elwood @ blazingelwood - n't bother ( doug 's song ) -tune http : //t.co/qyzpb1gkmr\",\n",
       " 'morgan silver dollar 1921 p ch gem bu pl blaze ms++++++ satin rare proof like ! - full re\\x89û_ http : //t.co/99mbyfl3id http : //t.co/4ddmtguzz',\n",
       " 'blaze hot ! etisalat free mb complet 12 month : etisalat give 100mb tecno q1 ime ... http : //t.co/avzsyie1nt',\n",
       " '@ funkylilshack @ mariaf30 want full bitch slap gun blaze cake throw charl showdown ! ! worth wait ? ? ? ?',\n",
       " \"follow @ edwelchmus check hit singl 'unpack ' man blaze ! ! !\",\n",
       " \"still n't know 8 hour physic activ blaze sun n't sport .\",\n",
       " 'way archetyp bleed well-ground readi : fpoj http : //t.co/wxbrarc7p3',\n",
       " \"threw chicken nugget sister lip 's bleed ? ?\",\n",
       " \"could slit throat 'd apolog bleed\",\n",
       " 'joe landolina : gel make stop bleed instantli http : //t.co/0btniwagt1 # arizona # realest http : //t.co/hhzy3oqela',\n",
       " 'nose bleed . last one like 10 year ago',\n",
       " \"bleed typewrit day far 've written bunch gunk .\",\n",
       " \"@ jaydennotjar ca n't help . hope 're ok . text need talk . send hug way . ps bleed death allow\",\n",
       " \"stab back promis 'll one bleed\",\n",
       " \"appar 're bleed peopl look weird lol well 's fine keep walk\",\n",
       " 'eat taki rub eye hand eye bleed tear',\n",
       " '@ darrylb1979 yea heard .. come 2017 2019 ? ? ? ? ? ? vampiro bleed',\n",
       " '@ coreyash look broken bleed ?',\n",
       " 'hit foot toe bleed ? ?',\n",
       " \"@ king_naruto_ long see madara bleed 'm good ? ?\",\n",
       " \"keep think step broken glass pun tak sedar n't feel pain also 's bleed . shit\",\n",
       " 'ear bleed http : //t.co/k5knnwugwt',\n",
       " 'wait 2.5 hour get cab feet bleed',\n",
       " \"'s cute dinner date til cam nose start bleed\",\n",
       " '@ uptown_jorg head like yo nose bleed',\n",
       " \"'ve bleed silenc feel safer violenc .\",\n",
       " \"@ jannet2208 fell someon 's back hit head concret / : bleed n shit\",\n",
       " \"@ katramsland ye 'm bleed heart liber .\",\n",
       " \"deadpool alreadi one favourit marvel charact know wear red suit bad guy ca n't tell 's bleed\",\n",
       " '@ beckyfeigin def stop bleed !',\n",
       " \"@ sodamntru know u 're bleed heart wannab pickup artist\",\n",
       " '@ chaosmagician97 awesom ! ! saw bleed pretti bad',\n",
       " \"@ burberry bleed brain n't know caus\",\n",
       " \"let see good soccer 're bleed yo face\",\n",
       " '@ tammy_w1997 @ elijahmallari bleed wild thing run around apart he work bar ? ? ? ? ? ? ? ?',\n",
       " '@ coloiccarn bleed instinct kick . * look away scratch back head *',\n",
       " 'ear bleed hate stefano',\n",
       " 'ear start bleed ...',\n",
       " '@ benjm1 @ tourofutah @ b1grego saw pileup tv keep race even bleed',\n",
       " 'rave wed ? see eye bleed',\n",
       " 'say bad thing happen reason wise word gon na stop te bleed',\n",
       " '@ damnaariel yo timelin blew damn fast',\n",
       " '@ mfalcon21 go look . blew w atom bomb .',\n",
       " \"blew # oomf instagram caus 's cute 's activ follow\",\n",
       " '@ b24fowler see ! crazi line blew .',\n",
       " 'instagram blew appar featur jazz tonight . cool love',\n",
       " \"'d still team usagi even blew entir solar system airhead misstep\",\n",
       " \"@ benkin97 @ mili_5499 rememb u like 4-0 blew one game ? u prob n't king cup\",\n",
       " \"hate peopl tweet 'receipt ' know wrong wont take bc 'blew up' liter gtfo 're desper\",\n",
       " \"think blew @ hopeinheart notif . go check 's encourag ? ? ? ? love ? ?\",\n",
       " 'hw18 go 90-100 . dude keep . took exit . pull side told blew motor . lolol # 2fast2furi',\n",
       " \"univers might actual exist scientist say http : //t.co/defj7xekgx 'the # sun blew # earth began ' ...\",\n",
       " 'max blew tf ! ? ? ? ? ? ? shot fire ? ? ? ? # catfishmtv',\n",
       " 'rick morti - blew : http : //t.co/uqkx5vbium',\n",
       " '@ codythompson25 ty blew motor went flame got ok',\n",
       " \"realiz dude @ _onlyftf 'what ' way blew @ tuski ? ? game @ robsimss @ cantmisskid\",\n",
       " 'night blew rq',\n",
       " 'blew snapchat reason ? ?',\n",
       " \"queen gambit went well anakin blew droid control ship . oh well still fun ! ca n't stop next ! # wbc2015\",\n",
       " \"@ iphooey @ time iron michel bachmann brought '11 w/ron paul & amp ; everyon blew call hoax . final right\",\n",
       " 'catfish retweet & amp ; notif blew ? ? ? ? ? ? .',\n",
       " 'guy whistl park lot & amp ; help wind blew skirt get car ? ?',\n",
       " 'blew mention',\n",
       " '1st time someon blew phone 30 time would block . believ . # catfish',\n",
       " '@ imawesome7986 like liter blew',\n",
       " 'freya video blew everywher',\n",
       " '@ yahooschwab easi way look good ray rice fiasco ... blew',\n",
       " 'lmao light skin guy blew twitter talk ugli kid ..',\n",
       " 'watch : honey blew economi recommend : conserv shopp horror # harperanetflixshow # elxn42 # stopharp',\n",
       " 'anyon els see firebal fall earth ? look like plane blew .',\n",
       " 'ye thing big sean still blew',\n",
       " 'zayn blew twitter .',\n",
       " 'bitch done blew shit',\n",
       " \"@ weloverobdyrdek @ adrian_peel damn clue . tri see mani click could get blew . 's play .\",\n",
       " '@ daorcey @ nsit_ great pair . like coupl graywarden fight blight ...',\n",
       " '@ damidnight there actual theori magist arent reason blight dwarv ( one',\n",
       " 'cycl fan feel sorri world athlet # dope blight exacerb monetari reward . lot soul search requir',\n",
       " '@ kynespeac * blight',\n",
       " 'poor jack ? ?',\n",
       " \"@ realhotcullen agre knew 'd go deep road found blight red lyrium . ai n't yet & gt ; _ & gt ;\",\n",
       " 'get load welfar love spong .... blight societi . http : //t.co/rrzbzgo48n',\n",
       " 'new post : prysmian secur contract blight bank wind farm http : //t.co/olg09kb6ha',\n",
       " 'cleveland height shaker height fight blight : hous next door http : //t.co/wyokt0ftrw',\n",
       " '@ todd_calfe @ mattburgen want see info blight u got',\n",
       " 'carl everest rob cobe whitt blight frost leo snuff godli other . drink beer . someday .',\n",
       " 'thda kick anti-blight loan effort memphi http : //t.co/xzlrwc0pik http : //t.co/o5xlxmkoyq',\n",
       " 'citi program help turn blight greenspac : tennesse hous development\\x89û_ http : //t.co/zzcbbqyj1q # news http : //t.co/kksghsblfh',\n",
       " '@ demetae12 ye want new blight leader',\n",
       " \"releas plane level - 1 . constel - blight gaia - iclown 's drumstep remix 2.iclown - infin ... http : //t.co/7le5gq2psx\",\n",
       " 'http : //t.co/etkd58un8n - cleveland height shaker height fight blight : hous next door http : //t.co/lrelvrm06w',\n",
       " \"'if go achiev excel big thing develop habit littl matter .... ' dont know author\",\n",
       " '@ hendy_21 sure purdi aliv blight ? ?',\n",
       " 'traci blight thank follow ! !',\n",
       " 'appercept bridgework blight : xxhjesc http : //t.co/ybhbarajxp',\n",
       " \"dotish blight car go right ahead . 's mine .\",\n",
       " 'sexual revolut : blight women ! http : //t.co/t8sv2ai7sw stori via @ acebab @ healthweekly1 @ amateurnest',\n",
       " \"like swear secret 'll uncov old god slumber . think there gon na anoth blight\",\n",
       " '@ willhillbet doubl result live app ?',\n",
       " '@ parksboardfact first # zippolin one want use commun never ask blight park # moveit',\n",
       " 'look polici matter ohio report # cle cuyahoga counti blight green vacant land soon ! http : //t.co/if62sdxvp7',\n",
       " '@ anellatulip put taint magist open gate let blight get away',\n",
       " '@ anellatulip theori make way much sens say dwarv may actual origin blight',\n",
       " '# palestinian # refuge tragedi blight human & amp ; shame everi # isra live . http : //t.co/gaae0no5du',\n",
       " 'articl michael jackman metro time detroit : group later downgrad estim 37 squar mile ... http : //t.co/h31mmuduqt',\n",
       " 'locksmithing-art respect elabor blight lock : lpdkl',\n",
       " '@ jake_blight @ wealilknowa cunt',\n",
       " 'everi 5000 win rank play gave special card back .. would cool long te\\x89û_ http : //t.co/vq3yab2j8n',\n",
       " 'amazon deal - wait buy ? http : //t.co/0t8vqkeari',\n",
       " \"new print avail http : //t.co/ucy5fea9yu ! - 'wait long ' pamela blizzard - http : //t.co/dnwwo1ybrk\",\n",
       " '@ blizzard_draco give free art kamon',\n",
       " '@ stevenontwatt @ pussyxdestroy order blizzard pay put nut say ball flavor . boom free ice cream',\n",
       " 'blizzard auz @ 9 pm cst @ radioriffrock / http : //t.co/pjlda9hd5v 2 hr rock make hump day complet ! http : //t.co/3wnjauar7w',\n",
       " 'realli want rolo blizzard mom said guess dq tonight',\n",
       " '@ ashayo @ msmiggi hi ashayo ! believ vod youtub present noth like see live : )',\n",
       " 'stat http : //t.co/u7vavyrgv9',\n",
       " '# tweet4taiji dolphin worship group base superstit ! take look tweet !',\n",
       " \"@ blizzard_fan lucio ! ! let 's get # overwatch hype train roll ! ! caution though n't break\",\n",
       " '@ blizzard_gamin ight',\n",
       " 'peanut butter cooki dough blizzard ? ? ? ? ? ? ? ? ? ? ? ? ? ? ? ? ? ? ? ? ? ?',\n",
       " \"mic control n't work one second\",\n",
       " \"tomorrow 's announc vod http : //t.co/cubze5mizm\",\n",
       " 'updat window 10 get error http : //t.co/khsbzkfd6o',\n",
       " 'new expans idea - bard class holi triniti + 1 http : //t.co/egioxbabo',\n",
       " '@ daborsch realli shock : ( blizzard lure old fanbas back wod disappoint us hardcor everyon leav',\n",
       " 'best thing dq cotton candi blizzard ? ? ? ? ? ? ? ? ? ? ? ? ? ? ? ? ? ? ? ? ? ? ? ? ? ? ? ? ? ? ? ? ? ? ? ? ? ? ? ? ? ? ? ? ? ? ? ? ? ?',\n",
       " 'lizard wizard blizzard # lwb http : //t.co/mgr809yc5a',\n",
       " '@ blizzard_draco @ lonewolffur need .',\n",
       " '@ fairx818x @ playoverwatch @ blizzardc pleas blizzard love',\n",
       " 'blizzard would clutch asf ? ?',\n",
       " '@ blizzard_draco @ lonewolffur also pleas would much like link',\n",
       " '@ bubblycuteon ? ? ? ? ? ? ? ? ? ? ok ok okayyyyyi ima act right .... bout get blizzard tho',\n",
       " '@ lonewolffur control tora',\n",
       " 'first time play hearthston pc thought http : //t.co/abolxmh1vi',\n",
       " 'love cotton candi blizzard ? ?',\n",
       " '@ tcgreno hard reset xbox',\n",
       " 'realli wan na browni batter blizzard ? ?',\n",
       " 'call littl bit blizzard ?',\n",
       " 'market news : activis blizzard cogniz technolog first solar http : //t.co/gknrp0e8q',\n",
       " 'sean end career sg blizzard vs knockout ... http : //t.co/nyv51681u',\n",
       " 'biggest regret hearthston ? http : //t.co/vcirn1md8v',\n",
       " 'someon walk dq ? ? wan na butterfing blizzard bad ? ?',\n",
       " 'horribl moment u open dryer look like snowi blizzard cuz u left piec paper jean pocket ? ?',\n",
       " '@ lonewolffur bruh * die *',\n",
       " 'rip ? ? blood !',\n",
       " \"@ chief__cg nah young blood cook gone 'm cut .haha\",\n",
       " 'wall invinc histori + blood danc floor http : //t.co/zntg2wndmj',\n",
       " 'broke nail ( real fake ) morn blood ah hurt idea treat ? help pretti pleas ? -_-',\n",
       " \"4.5 5 star 290 review 'dragon blood ' boxset lindsay burok http : //t.co/4yu5sy1cui # kindl http : //t.co/mzmxmyklxv\",\n",
       " 'blood group +ve associ gastric carcinoma say text book ... anoth fragil gene bodi ....',\n",
       " 'friend like blood besid us alway . come wound .',\n",
       " 'gone get get blood',\n",
       " 'peopl # tattoo .. u allow donat blood receiv blood well ?',\n",
       " 'dialys grandpa oh lord blood make light head',\n",
       " '@ setzorah dad dont claim mean right look eye blood xbox 360 smh -.-',\n",
       " 'omron hem-712c automat blood pressur monitor standard larg bp cuff http : //t.co/gjbainqwn9 http : //t.co/jphgpl1c5x',\n",
       " \"blood pressur roof n't need extra shit ! ! ! !\",\n",
       " '@ chambered_blood yeah ! # speakingfromexperi',\n",
       " \"ca n't believ peopl mid 20 's n't high blood pressur . life stress . # decisionsondecis\",\n",
       " \"guy . imouto n't actual relat blood .\",\n",
       " 'bruh white peopl buy ugliest shoe super tight blood go feet',\n",
       " 'anoth day anoth excel @ _dangerousbean porridg . serious peopl . blood orang porridg phenomen .',\n",
       " '@ scotto519 happi birthday young blood',\n",
       " \"n't blood ! ? ? ? ?\",\n",
       " 'kinda shii nasti blood . pun intend',\n",
       " \"ai n't hoe blood\",\n",
       " 'today hastl get drug test blood drown tb shot document fill ? ?',\n",
       " 'man . somebodi got ta stop sbee dude fuckin funni blood',\n",
       " 'wind take gypsi blood time ? http : //t.co/66yvulizbk',\n",
       " '@ lobo_paranoico mad men',\n",
       " \"privat thirsti night ? sad blood rock'n roll ? # ? ?\",\n",
       " '# rolandonabeat : elli gould - blood | acess nosso site para ouvir ! http : //t.co/zk69ugxmt8',\n",
       " \"@ olrul welcom - read free chapter new book encount jesu . 's full hope . http : //t.co/6qx7arf4ag\",\n",
       " '@ anthxvi run blood',\n",
       " '@ sethalphaeu person favorit includ paramor muse green day royal blood 5so',\n",
       " 'shed innoc blood son daughter land pollut psalm 106:38 help stop sin abort .',\n",
       " '* se pone cantar cri lightn *',\n",
       " 'wasnt big stab deep stab there like blood everwh',\n",
       " 'add item everyday eat habit . pleas research take blood\\x89û_ http : //t.co/lnpscadaxr',\n",
       " 'looooooooooool bloodi hell ? ? http : //t.co/jrkgyl7te5',\n",
       " 'infect bloodi ear pierc alway fun ? ?',\n",
       " 'aggressif bloodi aggress',\n",
       " 'enter # win entir set butterlondon lip crayon via @ be_ram0 . - go enter ! # bblogger http : //t.co/dsb3ldfuxu',\n",
       " '@ slsandpet hey salli sorri email ? awol bloodi work argh ! @ resigninsham',\n",
       " \"'m listen bloodi jay . ? ? ? ? http : //t.co/ciyty0fgpr\",\n",
       " \"@ lauradeholanda forrest version '83 's bloodi aw well : ) ) ) xxx\",\n",
       " \"' nightmar elm street ' get remad ... - http : //t.co/hvwkjqxxyt\",\n",
       " \"ca n't bloodi wait ! ! soni set date stephen king\\x89ûª \\x89û÷the dark tower\\x89ûª # stephenk # thedarktow http : //t.co/j9lpdrxcd @ bdisgust\",\n",
       " 'got ta tri let go mani bloodi thing . smh',\n",
       " '@ tradcatknight ( 1 ) russia may play reason link bs . okanowa bloodi mainlin invas look like bloodi',\n",
       " 'bloodi insomnia ! grrrr ! ! # insomnia',\n",
       " '@ zhenghxn tri 11 eye akam ga kill tokyo ghoul damn bloodi dont dare watch ? ? ? ? ? ? ? ?',\n",
       " \"@ fantosex suck 's 're bloodi get mean amend .\",\n",
       " \"call weekend . call bloodi mari time . summer 's full . new\\x89û_ http : //t.co/vnni3zzuz6\",\n",
       " \"bloodi hell day . n't even realli done anyth . . tire . everyth . thought vaca would help much . =/\",\n",
       " 'damn bloodi hot',\n",
       " \"@ mrtophypup 's bloodi sexi * drool *\",\n",
       " 'know say side effect low & amp ; realli fast ? son product acn cream .. 1 side effect bloodi diarrhea ?',\n",
       " \"ronda rousey would 'close ' make floyd mayweath 's money 50 fight - bloodi elbow http : //t.co/ijzcytbffo # box\",\n",
       " \"'m aw paint .. agre a3 landscap bloodi oil paint ? ?\",\n",
       " 'need life sin girlfriend ride till bloodi end girlfriend',\n",
       " \"@ _itsmegss_ think . well 's bloodi bark\",\n",
       " 'eh hello cover bloodi thigh bloodi cleav ... \\x89ûó eh hello ! sinc expos cleavag ... http : //t.co/kv5l4ppxfg',\n",
       " '@ mariasherwood2 @ johnjcampbel mega bloodi marvel',\n",
       " 'bloodi mari sink . beet juic http : //t.co/luigmhma1i',\n",
       " '@ melris @ gayler1969 @ wwwbigbaldhead @ jessienojok @ melissaross9847 monti python date bloodi far want go .',\n",
       " 'meet bloodi rs5 http : //t.co/rvczmimfvx',\n",
       " \"friday suppos happi day 's bloodi friday hah zzzz\",\n",
       " '@ chxrmingprinc @ jones_luna bloodi hope * said fold arm sit back chair *',\n",
       " 'wait tell colleg friend reaf bloodi mari drama cd',\n",
       " \"' came kill indian ... fun ' : video smirk remorseless pakistani killer show boast . http : //t.co/fpjlwoxklg\",\n",
       " \"'ve watch episod s01e09 bloodi monday ! http : //t.co/vrpthvpymt # bloodymonday # tvshowtim http : //t.co/nkkvknbvoz\",\n",
       " 'marlon william & gt ; elvi presley & gt ; marlon william & gt ; steel panther . shuffl mode like bloodi legend .',\n",
       " 'black friday turn bloodi ( would rather shop ) http : //t.co/l0pmmtzlwp # mysteri',\n",
       " \"@ ezralev someon told soccer mom get pic blown put daughter 's bedroom wall . ! ! !\",\n",
       " '@ papcrdol s2g mention get blown choic deactiv leav good . respect choic .',\n",
       " \"@ manutd @ emilymcfcheslop wow wow ! club blown money fuck player like 'd pillori !\",\n",
       " 'damn greink got blown first inning',\n",
       " 'woke blown lol',\n",
       " \"aunt marg 're blown ehek\",\n",
       " '@ troylercraft yeah worth bc alreadi mani spammer & amp ; twitter probabl blown everi second',\n",
       " \"white famili ( supposedli repres america 's great valu ) get blown horribl cgi nuclear strike ..... lmfaoooo ! ! ! ! ! ! ! ! ! ! ! !\",\n",
       " \"man n't @ machinegunkelli blown ? 's still underground .\",\n",
       " 'mention blown ? ? ? wtf .',\n",
       " '# thisdayinhistori 1862 confeder ship blown crew . read http : //t.co/iw7elszifz via @ histori',\n",
       " 'moment ur win mini uhc get blown creeper get kick fli ..... salti rn ... ! ! ! ? ?',\n",
       " \"@ libraryeliza get @ taylorswift13 'bump ' approv probabl 's blown http : //t.co/kolmzbz1pz # musicadvisori\",\n",
       " \"'if truckload soldier blown nobodi panic one littl lion die everyon lose mind' http : //t.co/wjntaokdhf\",\n",
       " \"hey look ! ! ! kash 's foundat live today got blown peopl magazin 's websit ! ! todd blake ... http : //t.co/2fenu1syu6\",\n",
       " \"@ kaylak369 got last month went ee shop . glad n't blown yet . http : //t.co/pgb2bmcfx8\",\n",
       " 'first time tweet blown almost half day later ... http : //t.co/1buf0xm53d',\n",
       " \"'we\\x89ûªr blown away extens . noth we\\x89ûªv seen mani option one . ' http : //t.co/0yzgw9zbhr http : //t.co/rhtaqjvqn2\",\n",
       " \"@ theboyofmask 'thank let stay sinc manor blown ..... anyway buddi ? '\",\n",
       " 'loner diari . pattern sand may blown away . photo two choke flame .... http : //t.co/ekfaz6wvbz',\n",
       " 'even though bsg suffici hype year somehow delay watch utterli utterli blown away .',\n",
       " \"vanessa 's game offici blown . ladi gentlemen ... real show begin . # bb17\",\n",
       " 'guarante bitten mutant mosquito ankl blown . littl cunt',\n",
       " 'thing pick tozlet seat| : butt leprosi full-blown jerkfac syndrom later lisp & amp ; toilet ricket .',\n",
       " '@ kalinandmyl @ kalinwhit ig blown hacker need stop # givebackkalinwhiteaccount',\n",
       " '@ luke_winki whoever direct video need grab nicki minaj someon u.s. recognit mind blown .',\n",
       " \"@ princessduck last week want 6th sens get blown far good . jame could win 's huge target gone soon .\",\n",
       " '@ orbett like blown amirit',\n",
       " 'dog\\x89ûª blown kennel \\x89ûò bloodi yorkshir terrorist',\n",
       " 'turn espn2 get blown',\n",
       " '@ hopefulbatgirl went beaten blown . next thing know ra al ghul brought back life escap -- -',\n",
       " '@ thebriankraus leo ass got metaphor blown # piperwearsthep # charm',\n",
       " '@ anarchic_teapot @ boironusa @ zeno001 glononium 6c also help blown bash bottl nitroglycerin book .',\n",
       " 'new ladi shoulder tote handbag women cross bodi bag faux leather fashion purs - full re\\x89û_ http : //t.co/y87gi3brlv http : //t.co/1zbhvdcxz',\n",
       " 'new ladi shoulder tote handbag women cross bodi bag faux leather fashion purs - full re\\x89û_ http : //t.co/blaawhysct http : //t.co/ddr0zjxvqn',\n",
       " 'son daughter would like see go war iran come back bodi bag ? let # republican know',\n",
       " '@ questergirl ditto . way feel drank vodka ice would bodi bag',\n",
       " '# handbag genuin mulberri antoni cross bodi messeng bag dark oak soft buffalo leather : å£279.00end date : w ... http : //t.co/ftm4rkl8mn',\n",
       " 'loui vuitton monogram sophi limit edit clutch cross bodi bag - full read ebay http : //t.co/jrxgolnpqw http : //t.co/lin16kvzbn',\n",
       " 'loui vuitton monogram sophi limit edit clutch cross bodi bag - full read ebay http : //t.co/gggfvo5pb4 http : //t.co/nlfr8t3xqm',\n",
       " 'loui vuitton cultsierr monogram shoulder bag cross bodi bag http : //t.co/muf5czqjrl http : //t.co/sslt8esmhi',\n",
       " 'check ameribag healthi back bag shoulder cross bodi backpack khaki tan beig nylon http : //t.co/r4k7tylofj @ ebay',\n",
       " 'photo : bath & amp ; bodi work cosmet bag periwinkl blue copper pipe along top four corner .... http : //t.co/a9bnlse6qb',\n",
       " 'new ladi shoulder tote handbag women cross bodi bag faux leather fashion purs - full re\\x89û_ http : //t.co/3pcntczoxv http : //t.co/n0akjm1e4b',\n",
       " 'new summer long thin bodi bag hip word skirt blue http : //t.co/lvkoemsq8m http : //t.co/cjirhhh4vj',\n",
       " 'å¤ } new ladi shoulder tote # handbag faux leather hobo purs cross bodi bag # women http : //t.co/uoozxaus26 http : //t.co/6mgbizjfgd rt en\\x89û_',\n",
       " \"@ tr_jdavi bruh wan na fight 'm meet cage bro better find 're deal end bodi bag\",\n",
       " 'new ladi shoulder tote handbag faux leather hobo purs cross bodi bag women - full read\\x89û_ http : //t.co/4fxfllrien http : //t.co/i12nlsr8fk',\n",
       " 'auth loui vuitton brown saumur 35 cross bodi shoulder bag monogram 7.23 419-3 - full read\\x89û_ http : //t.co/hcdiwe5flc http : //t.co/zlvebeoavg',\n",
       " 'check vintag longaberg floral fabric shoulder cross bodi bag brown leather strap http : //t.co/fb8snrg4hu @ ebay',\n",
       " '? ? new ladi shoulder tote # handbag faux leather hobo purs cross bodi bag # women http : //t.co/zujwuiomb3 http : //t.co/gbctmhx7pw',\n",
       " 'new summer long thin bodi bag hip word skirt blue http : //t.co/8jymd9ypsj http : //t.co/57pkmmcadg',\n",
       " '? ìü new ladi shoulder tote # handbag faux leather hobo purs cross bodi bag # women http : //t.co/uoozxaus26 http : //t.co/pw78nbljki rt en\\x89û_',\n",
       " 'loui vuitton monogram sophi limit edit clutch cross bodi bag - full read ebay http : //t.co/i4aogcsoy5 http : //t.co/djiwg9pxv4',\n",
       " 'new women handbag faux leather ladi shoulder tote cross bodi bag larg satchel - full re\\x89û_ http : //t.co/ncjpgf6znv http : //t.co/gerjau74ey',\n",
       " '? ? new ladi shoulder tote # handbag faux leather hobo purs cross bodi bag # women http : //t.co/zujwuiomb3 http : //t.co/iap4lwvqsw',\n",
       " 'one day heart gone get zip bodi bag .',\n",
       " '# handbag # fashion # style http : //t.co/ipxpi3me16 authent loui vuitton pochett bosphor shoulder cross bodi bag\\x89û_ http : //t.co/rv0fk7q4y5',\n",
       " 'å_ ? new ladi shoulder tote # handbag faux leather hobo purs cross bodi bag # women http : //t.co/zujwuiomb3 http : //t.co/ykltfj1fnc',\n",
       " '# handbag # fashion # style http : //t.co/hpd3snm6oy vintag coach purs camera bag cross bodi # 9973 $ 16.99 ( 0 bid ) \\x89û_ http : //t.co/gsmddmu9pu',\n",
       " 'genuin leather man bag messeng fit ipad mini 4 tablet case cross bodi air jp - full rea\\x89û_ http : //t.co/rcburzsb2b http : //t.co/ehsfklgri3',\n",
       " 'loui vuitton monogram sophi limit edit clutch cross bodi bag - full read ebay http : //t.co/vjgr6liaxh http : //t.co/55jr66plov',\n",
       " '? ? new ladi shoulder tote # handbag faux leather hobo purs cross bodi bag # women http : //t.co/zujwuiomb3 http : //t.co/cjqq6cgohg',\n",
       " \"nuu fam ? ? fwt 'm leav bodi bag ? ?\",\n",
       " 'new ladi shoulder tote handbag faux leather hobo purs cross bodi bag women - full read\\x89û_ http : //t.co/ur7fexszg4 http : //t.co/wb8awoblcl',\n",
       " \"@ rhee1975 @ deliciousvomit 'm 'm say 're lucki go home famili put bodi bag\",\n",
       " \"@ matt_bez oh 'm bag ! bodi bangin ' . 'm say 's go get rose .\",\n",
       " \"@ ohmyloz @ rondarousey bag bodi ? 's smoke hot ? ?\",\n",
       " 'drake realli bodi bag meek',\n",
       " '@ fuckyeahcarey @ bornverifi drake kill dude tea bag dead bodi point',\n",
       " '@ meekmil w ( rec ) k leagu ball @ drake olymp level bodi bag like career noth # trollingtilmeekdiss',\n",
       " 'idgaf tough canada north philli meek act like bitch & amp ; drake bodi bag ass track',\n",
       " '@ yanke bodi bag mf',\n",
       " '@ broseidonrex @ dapurplesharpi skim twitter miss bodi bag .',\n",
       " 'g+ : +http : //t.co/dodxi41y1cåêi bodi bag lyric ! http : //t.co/hlmyaanrc9',\n",
       " '@ bomairing @ elutranscend straight bodi bag .',\n",
       " 'bodi bag bitch ? ? ? ? http : //t.co/afssgpnzwi',\n",
       " 'better feel see stage day one ...... 22 year friendship still bodi bag mic togeth .',\n",
       " 'mophem bigstar johnson problem game bodi bag nigga # vuzuhustl',\n",
       " 'bodi bag ? ? ? ? today ... 4got post score http : //t.co/81g18wsauk',\n",
       " \"@ editaxohaz let bag bodi 's begin lol ? ? ? ? ai n't cuf yet n't bad ! !\",\n",
       " ...]"
      ]
     },
     "execution_count": 90,
     "metadata": {},
     "output_type": "execute_result"
    }
   ],
   "source": [
    "def nlp_with_punc(text_str):\n",
    "    k = word_tokenize(text_str)\n",
    "    for i in range(len(k)):\n",
    "        k[i] = k[i].lower()\n",
    "    k = [ps.stem(i) for i in k if i not in stopwords.words('english')]\n",
    "    k = \" \".join(k)\n",
    "    return k\n",
    "with_punk_list = []\n",
    "for i in range(len(train['text'])):\n",
    "    with_punk_list.append(nlp_with_punc(train['text'][i]))\n",
    "with_punk_list"
   ]
  },
  {
   "cell_type": "markdown",
   "metadata": {},
   "source": [
    "### Word2Vec"
   ]
  },
  {
   "cell_type": "code",
   "execution_count": 25,
   "metadata": {},
   "outputs": [],
   "source": [
    "text_list = []\n",
    "for i in train['text']:\n",
    "    k = word_tokenize(i)\n",
    "    text_list.append(k)\n",
    "w2v_model = Word2Vec(text_list)\n",
    "w2v_model.vector_size\n",
    "#MeanEmbeddingVectorizer(w2v_model)\n",
    "len_train = int(len(train['text'])*0.8)\n",
    "print(len_train)\n",
    "words = set(w2v_model.wv.index_to_key)\n",
    "X_train_vect = np.array([np.array([w2v_model.wv[i] for i in ls if i in words])\n",
    "                         for ls in train['text'][:len_train]])\n",
    "\n",
    "X_test_vect = np.array([np.array([w2v_model.wv[i] for i in ls if i in words])\n",
    "                         for ls in train['text'][len_train:]])"
   ]
  },
  {
   "cell_type": "code",
   "execution_count": 85,
   "metadata": {},
   "outputs": [
    {
     "data": {
      "text/plain": [
       "[('site', 0.9986717700958252),\n",
       " ('Obama', 0.9982538819313049),\n",
       " ('On', 0.9982209801673889),\n",
       " ('security', 0.998143196105957),\n",
       " ('Storm', 0.9979630708694458),\n",
       " ('Report', 0.9979050159454346),\n",
       " ('From', 0.9978207945823669),\n",
       " ('New', 0.9978201389312744),\n",
       " ('S', 0.9977688789367676),\n",
       " ('Hijack', 0.9976590275764465)]"
      ]
     },
     "execution_count": 85,
     "metadata": {},
     "output_type": "execute_result"
    }
   ],
   "source": [
    "w2v_model.wv.most_similar('disaster')"
   ]
  },
  {
   "cell_type": "code",
   "execution_count": 77,
   "metadata": {},
   "outputs": [
    {
     "data": {
      "text/plain": [
       "5329"
      ]
     },
     "execution_count": 77,
     "metadata": {},
     "output_type": "execute_result"
    }
   ],
   "source": [
    "# Compute sentence vectors by averaging the word vectors for the words contained in the sentence\n",
    "X_train_vect_avg = []\n",
    "for v in X_train_vect:\n",
    "    if v.size:\n",
    "        X_train_vect_avg.append(v.mean(axis=0))\n",
    "    else:\n",
    "        X_train_vect_avg.append(np.zeros(100, dtype=float))\n",
    "        \n",
    "X_test_vect_avg = []\n",
    "for v in X_test_vect:\n",
    "    if v.size:\n",
    "        X_test_vect_avg.append(v.mean(axis=0))\n",
    "    else:\n",
    "        X_test_vect_avg.append(np.zeros(100, dtype=float))\n",
    "\n",
    "len(X_train_vect_avg)"
   ]
  },
  {
   "cell_type": "markdown",
   "metadata": {},
   "source": [
    "### Transform sentences to matrix of word counts"
   ]
  },
  {
   "cell_type": "code",
   "execution_count": 52,
   "metadata": {},
   "outputs": [],
   "source": [
    "from sklearn.feature_extraction.text import TfidfVectorizer\n",
    "tfidf = TfidfVectorizer()\n",
    "tfidf.fit(train['text'])\n",
    "x_train = tfidf.transform(train['text'])\n",
    "x_train\n",
    "y_train = train['target']"
   ]
  },
  {
   "cell_type": "code",
   "execution_count": 70,
   "metadata": {},
   "outputs": [],
   "source": [
    "len_train = int(x_train.shape[0]*0.7)\n",
    "train_x = x_train[:len_train]\n",
    "test_x = x_train[len_train:]\n",
    "train_y = y_train[:len_train]\n",
    "test_y =  y_train[len_train:]"
   ]
  },
  {
   "cell_type": "markdown",
   "metadata": {},
   "source": [
    "### Transform sentences without moving punctuations to matrix of word counts"
   ]
  },
  {
   "cell_type": "code",
   "execution_count": 99,
   "metadata": {},
   "outputs": [],
   "source": [
    "tfidf.fit(with_punk_list)\n",
    "x_train = tfidf.transform(with_punk_list)\n",
    "\n",
    "train_x_punc = x_train[:len_train]\n",
    "test_x_punc = x_train[len_train:]\n",
    "train_y = y_train[:len_train]\n",
    "test_y =  y_train[len_train:]"
   ]
  },
  {
   "cell_type": "code",
   "execution_count": 100,
   "metadata": {},
   "outputs": [
    {
     "data": {
      "text/plain": [
       "<5329x18816 sparse matrix of type '<class 'numpy.float64'>'\n",
       "\twith 58124 stored elements in Compressed Sparse Row format>"
      ]
     },
     "execution_count": 100,
     "metadata": {},
     "output_type": "execute_result"
    }
   ],
   "source": [
    "train_x_punc"
   ]
  },
  {
   "cell_type": "markdown",
   "metadata": {},
   "source": [
    "### Naive Bayes"
   ]
  },
  {
   "cell_type": "code",
   "execution_count": 54,
   "metadata": {},
   "outputs": [
    {
     "data": {
      "text/plain": [
       "array([[0., 0., 0., ..., 0., 0., 0.],\n",
       "       [0., 0., 0., ..., 0., 0., 0.],\n",
       "       [0., 0., 0., ..., 0., 0., 0.],\n",
       "       ...,\n",
       "       [0., 0., 0., ..., 0., 0., 0.],\n",
       "       [0., 0., 0., ..., 0., 0., 0.],\n",
       "       [0., 0., 0., ..., 0., 0., 0.]])"
      ]
     },
     "execution_count": 54,
     "metadata": {},
     "output_type": "execute_result"
    }
   ],
   "source": [
    "train_x.toarray()"
   ]
  },
  {
   "cell_type": "code",
   "execution_count": 105,
   "metadata": {},
   "outputs": [
    {
     "name": "stdout",
     "output_type": "stream",
     "text": [
      "Accuracy: 0.9605929817977107\n",
      "Accuracy: 0.6120840630472855\n"
     ]
    }
   ],
   "source": [
    "#Naive Bayes for tf-idf\n",
    "from sklearn.naive_bayes import GaussianNB\n",
    "classifier = GaussianNB()\n",
    "classifier.fit(train_x.toarray(), train_y)\n",
    "y_pred_test = classifier.predict(test_x.toarray())\n",
    "y_pred_train = classifier.predict(train_x.toarray())\n",
    "from sklearn import metrics\n",
    "print(\"Accuracy:\",metrics.accuracy_score(train_y, y_pred_train))\n",
    "print(\"Accuracy:\",metrics.accuracy_score(test_y, y_pred_test))"
   ]
  },
  {
   "cell_type": "code",
   "execution_count": 56,
   "metadata": {},
   "outputs": [
    {
     "data": {
      "text/plain": [
       "<AxesSubplot: >"
      ]
     },
     "execution_count": 56,
     "metadata": {},
     "output_type": "execute_result"
    },
    {
     "data": {
      "image/png": "[encoded data removed]",
      "text/plain": [
       "<Figure size 640x480 with 2 Axes>"
      ]
     },
     "metadata": {},
     "output_type": "display_data"
    }
   ],
   "source": [
    "import seaborn as sns\n",
    "cf_matrix = confusion_matrix(test_y, y_pred_test)\n",
    "sns.heatmap(cf_matrix, annot=True)"
   ]
  },
  {
   "cell_type": "code",
   "execution_count": 66,
   "metadata": {},
   "outputs": [
    {
     "data": {
      "text/plain": [
       "array([[-0.20169179,  0.27885988,  0.08910833, ..., -0.2399228 ,\n",
       "        -0.00101684, -0.0910897 ],\n",
       "       [-0.05602687,  0.05526017,  0.00284927, ..., -0.06311652,\n",
       "         0.03180394,  0.01191666],\n",
       "       [-0.04685591,  0.03181419,  0.00538342, ..., -0.04109437,\n",
       "         0.02210351,  0.00295516],\n",
       "       ...,\n",
       "       [-0.20169179,  0.27885988,  0.08910833, ..., -0.2399228 ,\n",
       "        -0.00101684, -0.0910897 ],\n",
       "       [-0.0443688 ,  0.0410972 , -0.00447034, ..., -0.04971872,\n",
       "         0.03316927,  0.02412971],\n",
       "       [-0.13232048,  0.2052962 ,  0.24508162, ..., -0.23680617,\n",
       "        -0.0272199 , -0.15659897]], dtype=float32)"
      ]
     },
     "execution_count": 66,
     "metadata": {},
     "output_type": "execute_result"
    }
   ],
   "source": [
    "X_train_vect[0]"
   ]
  },
  {
   "cell_type": "code",
   "execution_count": 73,
   "metadata": {
    "scrolled": true
   },
   "outputs": [
    {
     "data": {
      "text/plain": [
       "6090"
      ]
     },
     "execution_count": 73,
     "metadata": {},
     "output_type": "execute_result"
    }
   ],
   "source": [
    "len(X_train_vect_avg)"
   ]
  },
  {
   "cell_type": "markdown",
   "metadata": {},
   "source": [
    "### Naive Bayes for Word2Vec"
   ]
  },
  {
   "cell_type": "code",
   "execution_count": 78,
   "metadata": {},
   "outputs": [
    {
     "name": "stdout",
     "output_type": "stream",
     "text": [
      "Accuracy: 0.5047851379245637\n",
      "Accuracy: 0.5280210157618214\n"
     ]
    }
   ],
   "source": [
    "#Naive Bayes for Word2Vec\n",
    "classifier = GaussianNB()\n",
    "classifier.fit(X_train_vect_avg, train_y)\n",
    "y_vect_test = classifier.predict(X_test_vect_avg)\n",
    "y_vect_train = classifier.predict(X_train_vect_avg)\n",
    "from sklearn import metrics\n",
    "print(\"Accuracy:\",metrics.accuracy_score(train_y, y_vect_train))\n",
    "print(\"Accuracy:\",metrics.accuracy_score(test_y, y_vect_test))"
   ]
  },
  {
   "cell_type": "markdown",
   "metadata": {},
   "source": [
    "### Naive Bayes for TFIDF without removing punctuation"
   ]
  },
  {
   "cell_type": "code",
   "execution_count": 106,
   "metadata": {},
   "outputs": [
    {
     "name": "stdout",
     "output_type": "stream",
     "text": [
      "Accuracy: 0.9485832238693939\n",
      "Accuracy: 0.5818739054290718\n"
     ]
    }
   ],
   "source": [
    "### Naive Bayes for TFIDF without removing punctuation\n",
    "classifier = GaussianNB()\n",
    "classifier.fit(train_x_punc.toarray(), train_y)\n",
    "y_pred_test = classifier.predict(test_x_punc.toarray())\n",
    "y_pred_train = classifier.predict(train_x_punc.toarray())\n",
    "from sklearn import metrics\n",
    "print(\"Accuracy:\",metrics.accuracy_score(train_y, y_pred_train))\n",
    "print(\"Accuracy:\",metrics.accuracy_score(test_y, y_pred_test))"
   ]
  },
  {
   "cell_type": "markdown",
   "metadata": {},
   "source": [
    "### False Positive: 680; False Negative: 280"
   ]
  },
  {
   "cell_type": "markdown",
   "metadata": {},
   "source": [
    "### Random Forest Classifier"
   ]
  },
  {
   "cell_type": "code",
   "execution_count": 63,
   "metadata": {},
   "outputs": [
    {
     "data": {
      "text/html": [
       "<style>#sk-container-id-1 {color: black;background-color: white;}#sk-container-id-1 pre{padding: 0;}#sk-container-id-1 div.sk-toggleable {background-color: white;}#sk-container-id-1 label.sk-toggleable__label {cursor: pointer;display: block;width: 100%;margin-bottom: 0;padding: 0.3em;box-sizing: border-box;text-align: center;}#sk-container-id-1 label.sk-toggleable__label-arrow:before {content: \"▸\";float: left;margin-right: 0.25em;color: #696969;}#sk-container-id-1 label.sk-toggleable__label-arrow:hover:before {color: black;}#sk-container-id-1 div.sk-estimator:hover label.sk-toggleable__label-arrow:before {color: black;}#sk-container-id-1 div.sk-toggleable__content {max-height: 0;max-width: 0;overflow: hidden;text-align: left;background-color: #f0f8ff;}#sk-container-id-1 div.sk-toggleable__content pre {margin: 0.2em;color: black;border-radius: 0.25em;background-color: #f0f8ff;}#sk-container-id-1 input.sk-toggleable__control:checked~div.sk-toggleable__content {max-height: 200px;max-width: 100%;overflow: auto;}#sk-container-id-1 input.sk-toggleable__control:checked~label.sk-toggleable__label-arrow:before {content: \"▾\";}#sk-container-id-1 div.sk-estimator input.sk-toggleable__control:checked~label.sk-toggleable__label {background-color: #d4ebff;}#sk-container-id-1 div.sk-label input.sk-toggleable__control:checked~label.sk-toggleable__label {background-color: #d4ebff;}#sk-container-id-1 input.sk-hidden--visually {border: 0;clip: rect(1px 1px 1px 1px);clip: rect(1px, 1px, 1px, 1px);height: 1px;margin: -1px;overflow: hidden;padding: 0;position: absolute;width: 1px;}#sk-container-id-1 div.sk-estimator {font-family: monospace;background-color: #f0f8ff;border: 1px dotted black;border-radius: 0.25em;box-sizing: border-box;margin-bottom: 0.5em;}#sk-container-id-1 div.sk-estimator:hover {background-color: #d4ebff;}#sk-container-id-1 div.sk-parallel-item::after {content: \"\";width: 100%;border-bottom: 1px solid gray;flex-grow: 1;}#sk-container-id-1 div.sk-label:hover label.sk-toggleable__label {background-color: #d4ebff;}#sk-container-id-1 div.sk-serial::before {content: \"\";position: absolute;border-left: 1px solid gray;box-sizing: border-box;top: 0;bottom: 0;left: 50%;z-index: 0;}#sk-container-id-1 div.sk-serial {display: flex;flex-direction: column;align-items: center;background-color: white;padding-right: 0.2em;padding-left: 0.2em;position: relative;}#sk-container-id-1 div.sk-item {position: relative;z-index: 1;}#sk-container-id-1 div.sk-parallel {display: flex;align-items: stretch;justify-content: center;background-color: white;position: relative;}#sk-container-id-1 div.sk-item::before, #sk-container-id-1 div.sk-parallel-item::before {content: \"\";position: absolute;border-left: 1px solid gray;box-sizing: border-box;top: 0;bottom: 0;left: 50%;z-index: -1;}#sk-container-id-1 div.sk-parallel-item {display: flex;flex-direction: column;z-index: 1;position: relative;background-color: white;}#sk-container-id-1 div.sk-parallel-item:first-child::after {align-self: flex-end;width: 50%;}#sk-container-id-1 div.sk-parallel-item:last-child::after {align-self: flex-start;width: 50%;}#sk-container-id-1 div.sk-parallel-item:only-child::after {width: 0;}#sk-container-id-1 div.sk-dashed-wrapped {border: 1px dashed gray;margin: 0 0.4em 0.5em 0.4em;box-sizing: border-box;padding-bottom: 0.4em;background-color: white;}#sk-container-id-1 div.sk-label label {font-family: monospace;font-weight: bold;display: inline-block;line-height: 1.2em;}#sk-container-id-1 div.sk-label-container {text-align: center;}#sk-container-id-1 div.sk-container {/* jupyter's `normalize.less` sets `[hidden] { display: none; }` but bootstrap.min.css set `[hidden] { display: none !important; }` so we also need the `!important` here to be able to override the default hidden behavior on the sphinx rendered scikit-learn.org. See: https://github.com/scikit-learn/scikit-learn/issues/21755 */display: inline-block !important;position: relative;}#sk-container-id-1 div.sk-text-repr-fallback {display: none;}</style><div id=\"sk-container-id-1\" class=\"sk-top-container\"><div class=\"sk-text-repr-fallback\"><pre>RandomForestClassifier(max_depth=50, random_state=123)</pre><b>In a Jupyter environment, please rerun this cell to show the HTML representation or trust the notebook. <br />On GitHub, the HTML representation is unable to render, please try loading this page with nbviewer.org.</b></div><div class=\"sk-container\" hidden><div class=\"sk-item\"><div class=\"sk-estimator sk-toggleable\"><input class=\"sk-toggleable__control sk-hidden--visually\" id=\"sk-estimator-id-1\" type=\"checkbox\" checked><label for=\"sk-estimator-id-1\" class=\"sk-toggleable__label sk-toggleable__label-arrow\">RandomForestClassifier</label><div class=\"sk-toggleable__content\"><pre>RandomForestClassifier(max_depth=50, random_state=123)</pre></div></div></div></div></div>"
      ],
      "text/plain": [
       "RandomForestClassifier(max_depth=50, random_state=123)"
      ]
     },
     "execution_count": 63,
     "metadata": {},
     "output_type": "execute_result"
    }
   ],
   "source": [
    "from sklearn.ensemble import RandomForestClassifier\n",
    "forest = RandomForestClassifier(n_estimators=100,\n",
    "                                random_state=123,\n",
    "                                max_depth = 50)\n",
    "forest.fit(train_x, train_y)"
   ]
  },
  {
   "cell_type": "code",
   "execution_count": 12,
   "metadata": {},
   "outputs": [
    {
     "name": "stdout",
     "output_type": "stream",
     "text": [
      "Accuracy: 0.8474385438168512\n",
      "Accuracy: 0.7193520140105079\n"
     ]
    }
   ],
   "source": [
    "from sklearn import metrics\n",
    "y_pred_test = forest.predict(test_x)\n",
    "y_pred_train = forest.predict(train_x)\n",
    "print(\"Accuracy:\",metrics.accuracy_score(train_y, y_pred_train))\n",
    "print(\"Accuracy:\",metrics.accuracy_score(test_y, y_pred_test))"
   ]
  },
  {
   "cell_type": "code",
   "execution_count": 13,
   "metadata": {},
   "outputs": [
    {
     "data": {
      "text/plain": [
       "<AxesSubplot: >"
      ]
     },
     "execution_count": 13,
     "metadata": {},
     "output_type": "execute_result"
    },
    {
     "data": {
      "image/png": "[encoded data removed]",
      "text/plain": [
       "<Figure size 640x480 with 2 Axes>"
      ]
     },
     "metadata": {},
     "output_type": "display_data"
    }
   ],
   "source": [
    "import seaborn as sns\n",
    "cf_matrix = confusion_matrix(test_y, y_pred_test)\n",
    "sns.heatmap(cf_matrix, annot=True)"
   ]
  },
  {
   "cell_type": "markdown",
   "metadata": {},
   "source": [
    "### False Positive: 37; False Negative: 600"
   ]
  },
  {
   "cell_type": "code",
   "execution_count": 79,
   "metadata": {},
   "outputs": [
    {
     "name": "stdout",
     "output_type": "stream",
     "text": [
      "Accuracy: 0.9966222555826609\n",
      "Accuracy: 0.648861646234676\n"
     ]
    }
   ],
   "source": [
    "#Random Forest for Word2Vec\n",
    "forest = RandomForestClassifier(n_estimators=100,\n",
    "                                random_state=123,\n",
    "                                max_depth = 50)\n",
    "forest.fit(X_train_vect_avg, train_y)\n",
    "y_vect_test = forest.predict(X_test_vect_avg)\n",
    "y_vect_train = forest.predict(X_train_vect_avg)\n",
    "from sklearn import metrics\n",
    "print(\"Accuracy:\",metrics.accuracy_score(train_y, y_vect_train))\n",
    "print(\"Accuracy:\",metrics.accuracy_score(test_y, y_vect_test))"
   ]
  },
  {
   "cell_type": "code",
   "execution_count": 80,
   "metadata": {},
   "outputs": [
    {
     "data": {
      "text/plain": [
       "<AxesSubplot: >"
      ]
     },
     "execution_count": 80,
     "metadata": {},
     "output_type": "execute_result"
    },
    {
     "data": {
      "image/png": "[encoded data removed]",
      "text/plain": [
       "<Figure size 640x480 with 2 Axes>"
      ]
     },
     "metadata": {},
     "output_type": "display_data"
    }
   ],
   "source": [
    "cf_matrix = confusion_matrix(test_y, y_vect_test)\n",
    "sns.heatmap(cf_matrix, annot=True)"
   ]
  },
  {
   "cell_type": "markdown",
   "metadata": {},
   "source": [
    "### Random Forest for TFIDF without removing punctuation"
   ]
  },
  {
   "cell_type": "code",
   "execution_count": 103,
   "metadata": {},
   "outputs": [
    {
     "name": "stdout",
     "output_type": "stream",
     "text": [
      "Accuracy: 0.8474385438168512\n",
      "Accuracy: 0.7193520140105079\n"
     ]
    }
   ],
   "source": [
    "### Random Forest for TFIDF without removing punctuation\n",
    "forest = RandomForestClassifier(n_estimators=100,\n",
    "                                random_state=123,\n",
    "                                max_depth = 50)\n",
    "forest.fit(train_x_punc.toarray(), train_y)\n",
    "y_pred_test = forest.predict(test_x_punc.toarray())\n",
    "y_pred_train = forest.predict(train_x_punc.toarray())\n",
    "from sklearn import metrics\n",
    "print(\"Accuracy:\",metrics.accuracy_score(train_y, y_pred_train))\n",
    "print(\"Accuracy:\",metrics.accuracy_score(test_y, y_pred_test))"
   ]
  },
  {
   "cell_type": "markdown",
   "metadata": {},
   "source": [
    "# Cat Boost"
   ]
  },
  {
   "cell_type": "code",
   "execution_count": 82,
   "metadata": {},
   "outputs": [
    {
     "data": {
      "text/plain": [
       "<catboost.core.CatBoostClassifier at 0x7fa94b57ae50>"
      ]
     },
     "execution_count": 82,
     "metadata": {},
     "output_type": "execute_result"
    }
   ],
   "source": [
    "from catboost import CatBoostClassifier\n",
    "cat_boost = CatBoostClassifier(verbose=0, random_state = 123)\n",
    "cat_boost.fit(train_x, train_y)"
   ]
  },
  {
   "cell_type": "code",
   "execution_count": 15,
   "metadata": {},
   "outputs": [
    {
     "name": "stdout",
     "output_type": "stream",
     "text": [
      "Accuracy: 0.8525051604428598\n",
      "Accuracy: 0.7132224168126094\n"
     ]
    }
   ],
   "source": [
    "y_pred_test = cat_boost.predict(test_x)\n",
    "y_pred_train = cat_boost.predict(train_x)\n",
    "print(\"Accuracy:\",metrics.accuracy_score(train_y, y_pred_train))\n",
    "print(\"Accuracy:\",metrics.accuracy_score(test_y, y_pred_test))"
   ]
  },
  {
   "cell_type": "code",
   "execution_count": 16,
   "metadata": {},
   "outputs": [
    {
     "data": {
      "text/plain": [
       "<AxesSubplot: >"
      ]
     },
     "execution_count": 16,
     "metadata": {},
     "output_type": "execute_result"
    },
    {
     "data": {
      "image/png": "[encoded data removed]",
      "text/plain": [
       "<Figure size 640x480 with 2 Axes>"
      ]
     },
     "metadata": {},
     "output_type": "display_data"
    }
   ],
   "source": [
    "cf_matrix = confusion_matrix(test_y, y_pred_test)\n",
    "sns.heatmap(cf_matrix, annot=True)"
   ]
  },
  {
   "cell_type": "markdown",
   "metadata": {},
   "source": [
    "### False Positive: 97; False Negative: 560"
   ]
  },
  {
   "cell_type": "markdown",
   "metadata": {},
   "source": [
    "### CATBoost for Word2Vec"
   ]
  },
  {
   "cell_type": "code",
   "execution_count": 83,
   "metadata": {},
   "outputs": [
    {
     "name": "stdout",
     "output_type": "stream",
     "text": [
      "Accuracy: 0.8286732970538563\n",
      "Accuracy: 0.6690017513134852\n"
     ]
    }
   ],
   "source": [
    "#CATBoost for Word2Vec\n",
    "cat_boost = CatBoostClassifier(verbose=0, random_state = 123)\n",
    "cat_boost.fit(X_train_vect_avg, train_y)\n",
    "\n",
    "y_vect_test = cat_boost.predict(X_test_vect_avg)\n",
    "y_vect_train = cat_boost.predict(X_train_vect_avg)\n",
    "from sklearn import metrics\n",
    "print(\"Accuracy:\",metrics.accuracy_score(train_y, y_vect_train))\n",
    "print(\"Accuracy:\",metrics.accuracy_score(test_y, y_vect_test))"
   ]
  },
  {
   "cell_type": "code",
   "execution_count": 84,
   "metadata": {},
   "outputs": [
    {
     "data": {
      "text/plain": [
       "<AxesSubplot: >"
      ]
     },
     "execution_count": 84,
     "metadata": {},
     "output_type": "execute_result"
    },
    {
     "data": {
      "image/png": "[encoded data removed]",
      "text/plain": [
       "<Figure size 640x480 with 2 Axes>"
      ]
     },
     "metadata": {},
     "output_type": "display_data"
    }
   ],
   "source": [
    "cf_matrix = confusion_matrix(test_y, y_vect_test)\n",
    "sns.heatmap(cf_matrix, annot=True)"
   ]
  },
  {
   "cell_type": "markdown",
   "metadata": {},
   "source": [
    "### CatBoost for TFIDF without removing punctuation"
   ]
  },
  {
   "cell_type": "code",
   "execution_count": 104,
   "metadata": {},
   "outputs": [
    {
     "name": "stdout",
     "output_type": "stream",
     "text": [
      "Accuracy: 0.8525051604428598\n",
      "Accuracy: 0.7132224168126094\n"
     ]
    }
   ],
   "source": [
    "### CatBoost for TFIDF without removing punctuation\n",
    "cat_boost = CatBoostClassifier(verbose=0, random_state = 123)\n",
    "cat_boost.fit(train_x_punc.toarray(), train_y)\n",
    "y_pred_test = cat_boost.predict(test_x_punc.toarray())\n",
    "y_pred_train = cat_boost.predict(train_x_punc.toarray())\n",
    "print(\"Accuracy:\",metrics.accuracy_score(train_y, y_pred_train))\n",
    "print(\"Accuracy:\",metrics.accuracy_score(test_y, y_pred_test))"
   ]
  },
  {
   "cell_type": "markdown",
   "metadata": {},
   "source": [
    "# XGBoost  (Took a long time to run)"
   ]
  },
  {
   "cell_type": "code",
   "execution_count": 17,
   "metadata": {},
   "outputs": [
    {
     "data": {
      "text/html": [
       "<style>#sk-container-id-3 {color: black;background-color: white;}#sk-container-id-3 pre{padding: 0;}#sk-container-id-3 div.sk-toggleable {background-color: white;}#sk-container-id-3 label.sk-toggleable__label {cursor: pointer;display: block;width: 100%;margin-bottom: 0;padding: 0.3em;box-sizing: border-box;text-align: center;}#sk-container-id-3 label.sk-toggleable__label-arrow:before {content: \"▸\";float: left;margin-right: 0.25em;color: #696969;}#sk-container-id-3 label.sk-toggleable__label-arrow:hover:before {color: black;}#sk-container-id-3 div.sk-estimator:hover label.sk-toggleable__label-arrow:before {color: black;}#sk-container-id-3 div.sk-toggleable__content {max-height: 0;max-width: 0;overflow: hidden;text-align: left;background-color: #f0f8ff;}#sk-container-id-3 div.sk-toggleable__content pre {margin: 0.2em;color: black;border-radius: 0.25em;background-color: #f0f8ff;}#sk-container-id-3 input.sk-toggleable__control:checked~div.sk-toggleable__content {max-height: 200px;max-width: 100%;overflow: auto;}#sk-container-id-3 input.sk-toggleable__control:checked~label.sk-toggleable__label-arrow:before {content: \"▾\";}#sk-container-id-3 div.sk-estimator input.sk-toggleable__control:checked~label.sk-toggleable__label {background-color: #d4ebff;}#sk-container-id-3 div.sk-label input.sk-toggleable__control:checked~label.sk-toggleable__label {background-color: #d4ebff;}#sk-container-id-3 input.sk-hidden--visually {border: 0;clip: rect(1px 1px 1px 1px);clip: rect(1px, 1px, 1px, 1px);height: 1px;margin: -1px;overflow: hidden;padding: 0;position: absolute;width: 1px;}#sk-container-id-3 div.sk-estimator {font-family: monospace;background-color: #f0f8ff;border: 1px dotted black;border-radius: 0.25em;box-sizing: border-box;margin-bottom: 0.5em;}#sk-container-id-3 div.sk-estimator:hover {background-color: #d4ebff;}#sk-container-id-3 div.sk-parallel-item::after {content: \"\";width: 100%;border-bottom: 1px solid gray;flex-grow: 1;}#sk-container-id-3 div.sk-label:hover label.sk-toggleable__label {background-color: #d4ebff;}#sk-container-id-3 div.sk-serial::before {content: \"\";position: absolute;border-left: 1px solid gray;box-sizing: border-box;top: 0;bottom: 0;left: 50%;z-index: 0;}#sk-container-id-3 div.sk-serial {display: flex;flex-direction: column;align-items: center;background-color: white;padding-right: 0.2em;padding-left: 0.2em;position: relative;}#sk-container-id-3 div.sk-item {position: relative;z-index: 1;}#sk-container-id-3 div.sk-parallel {display: flex;align-items: stretch;justify-content: center;background-color: white;position: relative;}#sk-container-id-3 div.sk-item::before, #sk-container-id-3 div.sk-parallel-item::before {content: \"\";position: absolute;border-left: 1px solid gray;box-sizing: border-box;top: 0;bottom: 0;left: 50%;z-index: -1;}#sk-container-id-3 div.sk-parallel-item {display: flex;flex-direction: column;z-index: 1;position: relative;background-color: white;}#sk-container-id-3 div.sk-parallel-item:first-child::after {align-self: flex-end;width: 50%;}#sk-container-id-3 div.sk-parallel-item:last-child::after {align-self: flex-start;width: 50%;}#sk-container-id-3 div.sk-parallel-item:only-child::after {width: 0;}#sk-container-id-3 div.sk-dashed-wrapped {border: 1px dashed gray;margin: 0 0.4em 0.5em 0.4em;box-sizing: border-box;padding-bottom: 0.4em;background-color: white;}#sk-container-id-3 div.sk-label label {font-family: monospace;font-weight: bold;display: inline-block;line-height: 1.2em;}#sk-container-id-3 div.sk-label-container {text-align: center;}#sk-container-id-3 div.sk-container {/* jupyter's `normalize.less` sets `[hidden] { display: none; }` but bootstrap.min.css set `[hidden] { display: none !important; }` so we also need the `!important` here to be able to override the default hidden behavior on the sphinx rendered scikit-learn.org. See: https://github.com/scikit-learn/scikit-learn/issues/21755 */display: inline-block !important;position: relative;}#sk-container-id-3 div.sk-text-repr-fallback {display: none;}</style><div id=\"sk-container-id-3\" class=\"sk-top-container\"><div class=\"sk-text-repr-fallback\"><pre>XGBClassifier(base_score=0.5, booster=&#x27;gbtree&#x27;, callbacks=None,\n",
       "              colsample_bylevel=1, colsample_bynode=1, colsample_bytree=1,\n",
       "              early_stopping_rounds=None, enable_categorical=False,\n",
       "              eval_metric=None, feature_types=None, gamma=0, gpu_id=-1,\n",
       "              grow_policy=&#x27;depthwise&#x27;, importance_type=None,\n",
       "              interaction_constraints=&#x27;&#x27;, learning_rate=0.300000012,\n",
       "              max_bin=256, max_cat_threshold=64, max_cat_to_onehot=4,\n",
       "              max_delta_step=0, max_depth=6, max_leaves=0, min_child_weight=1,\n",
       "              missing=nan, monotone_constraints=&#x27;()&#x27;, n_estimators=100,\n",
       "              n_jobs=0, num_parallel_tree=1, predictor=&#x27;auto&#x27;, random_state=123, ...)</pre><b>In a Jupyter environment, please rerun this cell to show the HTML representation or trust the notebook. <br />On GitHub, the HTML representation is unable to render, please try loading this page with nbviewer.org.</b></div><div class=\"sk-container\" hidden><div class=\"sk-item\"><div class=\"sk-estimator sk-toggleable\"><input class=\"sk-toggleable__control sk-hidden--visually\" id=\"sk-estimator-id-3\" type=\"checkbox\" checked><label for=\"sk-estimator-id-3\" class=\"sk-toggleable__label sk-toggleable__label-arrow\">XGBClassifier</label><div class=\"sk-toggleable__content\"><pre>XGBClassifier(base_score=0.5, booster=&#x27;gbtree&#x27;, callbacks=None,\n",
       "              colsample_bylevel=1, colsample_bynode=1, colsample_bytree=1,\n",
       "              early_stopping_rounds=None, enable_categorical=False,\n",
       "              eval_metric=None, feature_types=None, gamma=0, gpu_id=-1,\n",
       "              grow_policy=&#x27;depthwise&#x27;, importance_type=None,\n",
       "              interaction_constraints=&#x27;&#x27;, learning_rate=0.300000012,\n",
       "              max_bin=256, max_cat_threshold=64, max_cat_to_onehot=4,\n",
       "              max_delta_step=0, max_depth=6, max_leaves=0, min_child_weight=1,\n",
       "              missing=nan, monotone_constraints=&#x27;()&#x27;, n_estimators=100,\n",
       "              n_jobs=0, num_parallel_tree=1, predictor=&#x27;auto&#x27;, random_state=123, ...)</pre></div></div></div></div></div>"
      ],
      "text/plain": [
       "XGBClassifier(base_score=0.5, booster='gbtree', callbacks=None,\n",
       "              colsample_bylevel=1, colsample_bynode=1, colsample_bytree=1,\n",
       "              early_stopping_rounds=None, enable_categorical=False,\n",
       "              eval_metric=None, feature_types=None, gamma=0, gpu_id=-1,\n",
       "              grow_policy='depthwise', importance_type=None,\n",
       "              interaction_constraints='', learning_rate=0.300000012,\n",
       "              max_bin=256, max_cat_threshold=64, max_cat_to_onehot=4,\n",
       "              max_delta_step=0, max_depth=6, max_leaves=0, min_child_weight=1,\n",
       "              missing=nan, monotone_constraints='()', n_estimators=100,\n",
       "              n_jobs=0, num_parallel_tree=1, predictor='auto', random_state=123, ...)"
      ]
     },
     "execution_count": 17,
     "metadata": {},
     "output_type": "execute_result"
    }
   ],
   "source": [
    "from xgboost import XGBClassifier\n",
    "xg_classifier1 = XGBClassifier(random_state = 123)\n",
    "xg_classifier1.fit(train_x, train_y)"
   ]
  },
  {
   "cell_type": "code",
   "execution_count": 18,
   "metadata": {},
   "outputs": [
    {
     "name": "stdout",
     "output_type": "stream",
     "text": [
      "Accuracy: 0.8768999812347532\n",
      "Accuracy: 0.7298598949211909\n"
     ]
    }
   ],
   "source": [
    "y_pred_test = xg_classifier1.predict(test_x)\n",
    "y_pred_train = xg_classifier1.predict(train_x)\n",
    "print(\"Accuracy:\",metrics.accuracy_score(train_y, y_pred_train))\n",
    "print(\"Accuracy:\",metrics.accuracy_score(test_y, y_pred_test))"
   ]
  },
  {
   "cell_type": "code",
   "execution_count": 19,
   "metadata": {},
   "outputs": [
    {
     "data": {
      "text/plain": [
       "<AxesSubplot: >"
      ]
     },
     "execution_count": 19,
     "metadata": {},
     "output_type": "execute_result"
    },
    {
     "data": {
      "image/png": "[encoded data removed]",
      "text/plain": [
       "<Figure size 640x480 with 2 Axes>"
      ]
     },
     "metadata": {},
     "output_type": "display_data"
    }
   ],
   "source": [
    "cf_matrix = confusion_matrix(test_y, y_pred_test)\n",
    "sns.heatmap(cf_matrix, annot=True)"
   ]
  },
  {
   "cell_type": "markdown",
   "metadata": {},
   "source": [
    "### False Positive: 120; False Negative: 500"
   ]
  },
  {
   "cell_type": "code",
   "execution_count": null,
   "metadata": {},
   "outputs": [],
   "source": []
  },
  {
   "cell_type": "code",
   "execution_count": null,
   "metadata": {},
   "outputs": [],
   "source": []
  },
  {
   "cell_type": "code",
   "execution_count": null,
   "metadata": {},
   "outputs": [],
   "source": []
  },
  {
   "cell_type": "code",
   "execution_count": null,
   "metadata": {},
   "outputs": [],
   "source": []
  }
 ],
 "metadata": {
  "kernelspec": {
   "display_name": "Python 3",
   "language": "python",
   "name": "python3"
  },
  "language_info": {
   "codemirror_mode": {
    "name": "ipython",
    "version": 3
   },
   "file_extension": ".py",
   "mimetype": "text/x-python",
   "name": "python",
   "nbconvert_exporter": "python",
   "pygments_lexer": "ipython3",
   "version": "3.8.3"
  }
 },
 "nbformat": 4,
 "nbformat_minor": 5
}
